{
 "cells": [
  {
   "cell_type": "code",
   "execution_count": 1,
   "id": "confused-generic",
   "metadata": {},
   "outputs": [],
   "source": [
    "from TaxiFareModel.trainer import Trainer\n",
    "from TaxiFareModel.data import get_data, clean_df\n",
    "from sklearn import set_config\n",
    "import sklearn\n",
    "set_config(display='diagram')"
   ]
  },
  {
   "cell_type": "code",
   "execution_count": 5,
   "id": "curious-destination",
   "metadata": {},
   "outputs": [
    {
     "name": "stdout",
     "output_type": "stream",
     "text": [
      "get_data 1.92\n"
     ]
    }
   ],
   "source": [
    "df=get_data()\n",
    "\n",
    "df=clean_df(df)"
   ]
  },
  {
   "cell_type": "code",
   "execution_count": 6,
   "id": "contrary-aging",
   "metadata": {},
   "outputs": [
    {
     "name": "stdout",
     "output_type": "stream",
     "text": [
      "shape: (8533, 7)\n",
      "size: 0.546112 Mb\n"
     ]
    }
   ],
   "source": [
    "y_train = df[\"fare_amount\"]\n",
    "X_train = df.drop(\"fare_amount\", axis=1)\n",
    "print(\"shape: {}\".format(X_train.shape))\n",
    "print(\"size: {} Mb\".format(X_train.memory_usage().sum() / 1e6))"
   ]
  },
  {
   "cell_type": "code",
   "execution_count": 7,
   "id": "smart-olive",
   "metadata": {},
   "outputs": [],
   "source": [
    "experiment='Taxi_fare_model_566'\n",
    "params = dict(nrows=10000,\n",
    "                  local=False,  # set to False to get data from GCP (Storage or BigQuery)\n",
    "                  optimize=True,\n",
    "                  estimator=\"xgboost\",\n",
    "                  mlflow=True,  # set to True to log params to mlflow\n",
    "                  experiment_name=experiment,\n",
    "                  pipeline_memory=None,\n",
    "                  distance_type=\"manhattan\",\n",
    "                  feateng=[\"distance_to_center\",\"direction\",\"distance\",\"time_features\",\"geohash\"])\n"
   ]
  },
  {
   "cell_type": "code",
   "execution_count": 8,
   "id": "worth-bloom",
   "metadata": {
    "scrolled": true
   },
   "outputs": [],
   "source": [
    "trainer = Trainer(X_train, y_train, **params)"
   ]
  },
  {
   "cell_type": "code",
   "execution_count": 9,
   "id": "acceptable-concentration",
   "metadata": {},
   "outputs": [
    {
     "name": "stdout",
     "output_type": "stream",
     "text": [
      "\u001b[31mXGBRegressor\u001b[0m\n"
     ]
    }
   ],
   "source": [
    "trainer.set_pipeline()"
   ]
  },
  {
   "cell_type": "code",
   "execution_count": 11,
   "id": "seven-afghanistan",
   "metadata": {
    "scrolled": true
   },
   "outputs": [
    {
     "data": {
      "text/plain": [
       "{'memory': None,\n",
       " 'steps': [('features',\n",
       "   ColumnTransformer(transformers=[('distance',\n",
       "                                    Pipeline(steps=[('distancetransformer',\n",
       "                                                     DistanceTransformer(distance_type='manhattan')),\n",
       "                                                    ('standardscaler',\n",
       "                                                     StandardScaler())]),\n",
       "                                    ['pickup_latitude', 'pickup_longitude',\n",
       "                                     'dropoff_latitude', 'dropoff_longitude']),\n",
       "                                   ('time_features',\n",
       "                                    Pipeline(steps=[('timefeaturesencoder',\n",
       "                                                     TimeFeaturesEncoder(time_column='pickup_dateti...\n",
       "                                    Pipeline(steps=[('direction', Direction()),\n",
       "                                                    ('standardscaler',\n",
       "                                                     StandardScaler())]),\n",
       "                                    ['pickup_latitude', 'pickup_longitude',\n",
       "                                     'dropoff_latitude', 'dropoff_longitude']),\n",
       "                                   ('distance_to_center',\n",
       "                                    Pipeline(steps=[('distancetocenter',\n",
       "                                                     DistanceToCenter()),\n",
       "                                                    ('standardscaler',\n",
       "                                                     StandardScaler())]),\n",
       "                                    ['pickup_latitude', 'pickup_longitude',\n",
       "                                     'dropoff_latitude', 'dropoff_longitude'])])),\n",
       "  ('rgs',\n",
       "   XGBRegressor(base_score=None, booster=None, colsample_bylevel=None,\n",
       "                colsample_bynode=None, colsample_bytree=None, gamma=3, gpu_id=None,\n",
       "                importance_type='gain', interaction_constraints=None,\n",
       "                learning_rate=[0.1, 0.01, 0.05], max_delta_step=None,\n",
       "                max_depth=range(10, 20, 2), min_child_weight=None, missing=nan,\n",
       "                monotone_constraints=None, n_estimators=range(60, 220, 40),\n",
       "                n_jobs=-1, num_parallel_tree=None, random_state=None,\n",
       "                reg_alpha=None, reg_lambda=None, scale_pos_weight=None,\n",
       "                subsample=None, tree_method=None, validate_parameters=None,\n",
       "                verbosity=None))],\n",
       " 'verbose': False,\n",
       " 'features': ColumnTransformer(transformers=[('distance',\n",
       "                                  Pipeline(steps=[('distancetransformer',\n",
       "                                                   DistanceTransformer(distance_type='manhattan')),\n",
       "                                                  ('standardscaler',\n",
       "                                                   StandardScaler())]),\n",
       "                                  ['pickup_latitude', 'pickup_longitude',\n",
       "                                   'dropoff_latitude', 'dropoff_longitude']),\n",
       "                                 ('time_features',\n",
       "                                  Pipeline(steps=[('timefeaturesencoder',\n",
       "                                                   TimeFeaturesEncoder(time_column='pickup_dateti...\n",
       "                                  Pipeline(steps=[('direction', Direction()),\n",
       "                                                  ('standardscaler',\n",
       "                                                   StandardScaler())]),\n",
       "                                  ['pickup_latitude', 'pickup_longitude',\n",
       "                                   'dropoff_latitude', 'dropoff_longitude']),\n",
       "                                 ('distance_to_center',\n",
       "                                  Pipeline(steps=[('distancetocenter',\n",
       "                                                   DistanceToCenter()),\n",
       "                                                  ('standardscaler',\n",
       "                                                   StandardScaler())]),\n",
       "                                  ['pickup_latitude', 'pickup_longitude',\n",
       "                                   'dropoff_latitude', 'dropoff_longitude'])]),\n",
       " 'rgs': XGBRegressor(base_score=None, booster=None, colsample_bylevel=None,\n",
       "              colsample_bynode=None, colsample_bytree=None, gamma=3, gpu_id=None,\n",
       "              importance_type='gain', interaction_constraints=None,\n",
       "              learning_rate=[0.1, 0.01, 0.05], max_delta_step=None,\n",
       "              max_depth=range(10, 20, 2), min_child_weight=None, missing=nan,\n",
       "              monotone_constraints=None, n_estimators=range(60, 220, 40),\n",
       "              n_jobs=-1, num_parallel_tree=None, random_state=None,\n",
       "              reg_alpha=None, reg_lambda=None, scale_pos_weight=None,\n",
       "              subsample=None, tree_method=None, validate_parameters=None,\n",
       "              verbosity=None),\n",
       " 'features__n_jobs': None,\n",
       " 'features__remainder': 'drop',\n",
       " 'features__sparse_threshold': 0.3,\n",
       " 'features__transformer_weights': None,\n",
       " 'features__transformers': [('distance',\n",
       "   Pipeline(steps=[('distancetransformer',\n",
       "                    DistanceTransformer(distance_type='manhattan')),\n",
       "                   ('standardscaler', StandardScaler())]),\n",
       "   ['pickup_latitude',\n",
       "    'pickup_longitude',\n",
       "    'dropoff_latitude',\n",
       "    'dropoff_longitude']),\n",
       "  ('time_features',\n",
       "   Pipeline(steps=[('timefeaturesencoder',\n",
       "                    TimeFeaturesEncoder(time_column='pickup_datetime')),\n",
       "                   ('onehotencoder', OneHotEncoder(handle_unknown='ignore'))]),\n",
       "   ['pickup_datetime']),\n",
       "  ('geohash',\n",
       "   Pipeline(steps=[('addgeohash', AddGeohash()),\n",
       "                   ('hashingencoder', HashingEncoder(max_process=8))]),\n",
       "   ['pickup_latitude',\n",
       "    'pickup_longitude',\n",
       "    'dropoff_latitude',\n",
       "    'dropoff_longitude']),\n",
       "  ('direction',\n",
       "   Pipeline(steps=[('direction', Direction()),\n",
       "                   ('standardscaler', StandardScaler())]),\n",
       "   ['pickup_latitude',\n",
       "    'pickup_longitude',\n",
       "    'dropoff_latitude',\n",
       "    'dropoff_longitude']),\n",
       "  ('distance_to_center',\n",
       "   Pipeline(steps=[('distancetocenter', DistanceToCenter()),\n",
       "                   ('standardscaler', StandardScaler())]),\n",
       "   ['pickup_latitude',\n",
       "    'pickup_longitude',\n",
       "    'dropoff_latitude',\n",
       "    'dropoff_longitude'])],\n",
       " 'features__verbose': False,\n",
       " 'features__distance': Pipeline(steps=[('distancetransformer',\n",
       "                  DistanceTransformer(distance_type='manhattan')),\n",
       "                 ('standardscaler', StandardScaler())]),\n",
       " 'features__time_features': Pipeline(steps=[('timefeaturesencoder',\n",
       "                  TimeFeaturesEncoder(time_column='pickup_datetime')),\n",
       "                 ('onehotencoder', OneHotEncoder(handle_unknown='ignore'))]),\n",
       " 'features__geohash': Pipeline(steps=[('addgeohash', AddGeohash()),\n",
       "                 ('hashingencoder', HashingEncoder(max_process=8))]),\n",
       " 'features__direction': Pipeline(steps=[('direction', Direction()),\n",
       "                 ('standardscaler', StandardScaler())]),\n",
       " 'features__distance_to_center': Pipeline(steps=[('distancetocenter', DistanceToCenter()),\n",
       "                 ('standardscaler', StandardScaler())]),\n",
       " 'features__distance__memory': None,\n",
       " 'features__distance__steps': [('distancetransformer',\n",
       "   DistanceTransformer(distance_type='manhattan')),\n",
       "  ('standardscaler', StandardScaler())],\n",
       " 'features__distance__verbose': False,\n",
       " 'features__distance__distancetransformer': DistanceTransformer(distance_type='manhattan'),\n",
       " 'features__distance__standardscaler': StandardScaler(),\n",
       " 'features__distance__distancetransformer__distance_type': 'manhattan',\n",
       " 'features__distance__standardscaler__copy': True,\n",
       " 'features__distance__standardscaler__with_mean': True,\n",
       " 'features__distance__standardscaler__with_std': True,\n",
       " 'features__time_features__memory': None,\n",
       " 'features__time_features__steps': [('timefeaturesencoder',\n",
       "   TimeFeaturesEncoder(time_column='pickup_datetime')),\n",
       "  ('onehotencoder', OneHotEncoder(handle_unknown='ignore'))],\n",
       " 'features__time_features__verbose': False,\n",
       " 'features__time_features__timefeaturesencoder': TimeFeaturesEncoder(time_column='pickup_datetime'),\n",
       " 'features__time_features__onehotencoder': OneHotEncoder(handle_unknown='ignore'),\n",
       " 'features__time_features__timefeaturesencoder__time_column': 'pickup_datetime',\n",
       " 'features__time_features__timefeaturesencoder__time_zone_name': 'America/New_York',\n",
       " 'features__time_features__onehotencoder__categories': 'auto',\n",
       " 'features__time_features__onehotencoder__drop': None,\n",
       " 'features__time_features__onehotencoder__dtype': numpy.float64,\n",
       " 'features__time_features__onehotencoder__handle_unknown': 'ignore',\n",
       " 'features__time_features__onehotencoder__sparse': True,\n",
       " 'features__geohash__memory': None,\n",
       " 'features__geohash__steps': [('addgeohash', AddGeohash()),\n",
       "  ('hashingencoder', HashingEncoder(max_process=8))],\n",
       " 'features__geohash__verbose': False,\n",
       " 'features__geohash__addgeohash': AddGeohash(),\n",
       " 'features__geohash__hashingencoder': HashingEncoder(max_process=8),\n",
       " 'features__geohash__addgeohash__precision': 6,\n",
       " 'features__geohash__hashingencoder__cols': None,\n",
       " 'features__geohash__hashingencoder__drop_invariant': False,\n",
       " 'features__geohash__hashingencoder__hash_method': 'md5',\n",
       " 'features__geohash__hashingencoder__max_process': 8,\n",
       " 'features__geohash__hashingencoder__max_sample': 0,\n",
       " 'features__geohash__hashingencoder__n_components': 8,\n",
       " 'features__geohash__hashingencoder__return_df': True,\n",
       " 'features__geohash__hashingencoder__verbose': 0,\n",
       " 'features__direction__memory': None,\n",
       " 'features__direction__steps': [('direction', Direction()),\n",
       "  ('standardscaler', StandardScaler())],\n",
       " 'features__direction__verbose': False,\n",
       " 'features__direction__direction': Direction(),\n",
       " 'features__direction__standardscaler': StandardScaler(),\n",
       " 'features__direction__direction__end_lat': 'dropoff_latitude',\n",
       " 'features__direction__direction__end_lon': 'dropoff_longitude',\n",
       " 'features__direction__direction__start_lat': 'pickup_latitude',\n",
       " 'features__direction__direction__start_lon': 'pickup_longitude',\n",
       " 'features__direction__standardscaler__copy': True,\n",
       " 'features__direction__standardscaler__with_mean': True,\n",
       " 'features__direction__standardscaler__with_std': True,\n",
       " 'features__distance_to_center__memory': None,\n",
       " 'features__distance_to_center__steps': [('distancetocenter',\n",
       "   DistanceToCenter()),\n",
       "  ('standardscaler', StandardScaler())],\n",
       " 'features__distance_to_center__verbose': False,\n",
       " 'features__distance_to_center__distancetocenter': DistanceToCenter(),\n",
       " 'features__distance_to_center__standardscaler': StandardScaler(),\n",
       " 'features__distance_to_center__distancetocenter__verbose': False,\n",
       " 'features__distance_to_center__standardscaler__copy': True,\n",
       " 'features__distance_to_center__standardscaler__with_mean': True,\n",
       " 'features__distance_to_center__standardscaler__with_std': True,\n",
       " 'rgs__objective': 'reg:squarederror',\n",
       " 'rgs__base_score': None,\n",
       " 'rgs__booster': None,\n",
       " 'rgs__colsample_bylevel': None,\n",
       " 'rgs__colsample_bynode': None,\n",
       " 'rgs__colsample_bytree': None,\n",
       " 'rgs__gamma': 3,\n",
       " 'rgs__gpu_id': None,\n",
       " 'rgs__importance_type': 'gain',\n",
       " 'rgs__interaction_constraints': None,\n",
       " 'rgs__learning_rate': [0.1, 0.01, 0.05],\n",
       " 'rgs__max_delta_step': None,\n",
       " 'rgs__max_depth': range(10, 20, 2),\n",
       " 'rgs__min_child_weight': None,\n",
       " 'rgs__missing': nan,\n",
       " 'rgs__monotone_constraints': None,\n",
       " 'rgs__n_estimators': range(60, 220, 40),\n",
       " 'rgs__n_jobs': -1,\n",
       " 'rgs__num_parallel_tree': None,\n",
       " 'rgs__random_state': None,\n",
       " 'rgs__reg_alpha': None,\n",
       " 'rgs__reg_lambda': None,\n",
       " 'rgs__scale_pos_weight': None,\n",
       " 'rgs__subsample': None,\n",
       " 'rgs__tree_method': None,\n",
       " 'rgs__validate_parameters': None,\n",
       " 'rgs__verbosity': None}"
      ]
     },
     "execution_count": 11,
     "metadata": {},
     "output_type": "execute_result"
    }
   ],
   "source": [
    "trainer.pipeline.get_params()"
   ]
  },
  {
   "cell_type": "code",
   "execution_count": 10,
   "id": "conservative-service",
   "metadata": {
    "scrolled": true
   },
   "outputs": [
    {
     "data": {
      "text/html": [
       "<style>#sk-5f4d957c-edbd-42cc-b280-22973512e6e9 {color: black;background-color: white;}#sk-5f4d957c-edbd-42cc-b280-22973512e6e9 pre{padding: 0;}#sk-5f4d957c-edbd-42cc-b280-22973512e6e9 div.sk-toggleable {background-color: white;}#sk-5f4d957c-edbd-42cc-b280-22973512e6e9 label.sk-toggleable__label {cursor: pointer;display: block;width: 100%;margin-bottom: 0;padding: 0.2em 0.3em;box-sizing: border-box;text-align: center;}#sk-5f4d957c-edbd-42cc-b280-22973512e6e9 div.sk-toggleable__content {max-height: 0;max-width: 0;overflow: hidden;text-align: left;background-color: #f0f8ff;}#sk-5f4d957c-edbd-42cc-b280-22973512e6e9 div.sk-toggleable__content pre {margin: 0.2em;color: black;border-radius: 0.25em;background-color: #f0f8ff;}#sk-5f4d957c-edbd-42cc-b280-22973512e6e9 input.sk-toggleable__control:checked~div.sk-toggleable__content {max-height: 200px;max-width: 100%;overflow: auto;}#sk-5f4d957c-edbd-42cc-b280-22973512e6e9 div.sk-estimator input.sk-toggleable__control:checked~label.sk-toggleable__label {background-color: #d4ebff;}#sk-5f4d957c-edbd-42cc-b280-22973512e6e9 div.sk-label input.sk-toggleable__control:checked~label.sk-toggleable__label {background-color: #d4ebff;}#sk-5f4d957c-edbd-42cc-b280-22973512e6e9 input.sk-hidden--visually {border: 0;clip: rect(1px 1px 1px 1px);clip: rect(1px, 1px, 1px, 1px);height: 1px;margin: -1px;overflow: hidden;padding: 0;position: absolute;width: 1px;}#sk-5f4d957c-edbd-42cc-b280-22973512e6e9 div.sk-estimator {font-family: monospace;background-color: #f0f8ff;margin: 0.25em 0.25em;border: 1px dotted black;border-radius: 0.25em;box-sizing: border-box;}#sk-5f4d957c-edbd-42cc-b280-22973512e6e9 div.sk-estimator:hover {background-color: #d4ebff;}#sk-5f4d957c-edbd-42cc-b280-22973512e6e9 div.sk-parallel-item::after {content: \"\";width: 100%;border-bottom: 1px solid gray;flex-grow: 1;}#sk-5f4d957c-edbd-42cc-b280-22973512e6e9 div.sk-label:hover label.sk-toggleable__label {background-color: #d4ebff;}#sk-5f4d957c-edbd-42cc-b280-22973512e6e9 div.sk-serial::before {content: \"\";position: absolute;border-left: 1px solid gray;box-sizing: border-box;top: 2em;bottom: 0;left: 50%;}#sk-5f4d957c-edbd-42cc-b280-22973512e6e9 div.sk-serial {display: flex;flex-direction: column;align-items: center;background-color: white;}#sk-5f4d957c-edbd-42cc-b280-22973512e6e9 div.sk-item {z-index: 1;}#sk-5f4d957c-edbd-42cc-b280-22973512e6e9 div.sk-parallel {display: flex;align-items: stretch;justify-content: center;background-color: white;}#sk-5f4d957c-edbd-42cc-b280-22973512e6e9 div.sk-parallel-item {display: flex;flex-direction: column;position: relative;background-color: white;}#sk-5f4d957c-edbd-42cc-b280-22973512e6e9 div.sk-parallel-item:first-child::after {align-self: flex-end;width: 50%;}#sk-5f4d957c-edbd-42cc-b280-22973512e6e9 div.sk-parallel-item:last-child::after {align-self: flex-start;width: 50%;}#sk-5f4d957c-edbd-42cc-b280-22973512e6e9 div.sk-parallel-item:only-child::after {width: 0;}#sk-5f4d957c-edbd-42cc-b280-22973512e6e9 div.sk-dashed-wrapped {border: 1px dashed gray;margin: 0.2em;box-sizing: border-box;padding-bottom: 0.1em;background-color: white;position: relative;}#sk-5f4d957c-edbd-42cc-b280-22973512e6e9 div.sk-label label {font-family: monospace;font-weight: bold;background-color: white;display: inline-block;line-height: 1.2em;}#sk-5f4d957c-edbd-42cc-b280-22973512e6e9 div.sk-label-container {position: relative;z-index: 2;text-align: center;}#sk-5f4d957c-edbd-42cc-b280-22973512e6e9 div.sk-container {display: inline-block;position: relative;}</style><div id=\"sk-5f4d957c-edbd-42cc-b280-22973512e6e9\" class\"sk-top-container\"><div class=\"sk-container\"><div class=\"sk-item sk-dashed-wrapped\"><div class=\"sk-label-container\"><div class=\"sk-label sk-toggleable\"><input class=\"sk-toggleable__control sk-hidden--visually\" id=\"37d2cba5-896a-4bea-a6f5-5c42a8334ab6\" type=\"checkbox\" ><label class=\"sk-toggleable__label\" for=\"37d2cba5-896a-4bea-a6f5-5c42a8334ab6\">Pipeline</label><div class=\"sk-toggleable__content\"><pre>Pipeline(steps=[('features',\n",
       "                 ColumnTransformer(transformers=[('distance',\n",
       "                                                  Pipeline(steps=[('distancetransformer',\n",
       "                                                                   DistanceTransformer(distance_type='manhattan')),\n",
       "                                                                  ('standardscaler',\n",
       "                                                                   StandardScaler())]),\n",
       "                                                  ['pickup_latitude',\n",
       "                                                   'pickup_longitude',\n",
       "                                                   'dropoff_latitude',\n",
       "                                                   'dropoff_longitude']),\n",
       "                                                 ('time_features',\n",
       "                                                  Pipeline(steps=[('timefeaturesencoder',\n",
       "                                                                   TimeFeaturesEncode...\n",
       "                              interaction_constraints=None,\n",
       "                              learning_rate=[0.1, 0.01, 0.05],\n",
       "                              max_delta_step=None, max_depth=range(10, 20, 2),\n",
       "                              min_child_weight=None, missing=nan,\n",
       "                              monotone_constraints=None,\n",
       "                              n_estimators=range(60, 220, 40), n_jobs=-1,\n",
       "                              num_parallel_tree=None, random_state=None,\n",
       "                              reg_alpha=None, reg_lambda=None,\n",
       "                              scale_pos_weight=None, subsample=None,\n",
       "                              tree_method=None, validate_parameters=None,\n",
       "                              verbosity=None))])</pre></div></div></div><div class=\"sk-serial\"><div class=\"sk-item sk-dashed-wrapped\"><div class=\"sk-label-container\"><div class=\"sk-label sk-toggleable\"><input class=\"sk-toggleable__control sk-hidden--visually\" id=\"665aefbc-0dc1-4482-bd40-3472f5c80e4d\" type=\"checkbox\" ><label class=\"sk-toggleable__label\" for=\"665aefbc-0dc1-4482-bd40-3472f5c80e4d\">features: ColumnTransformer</label><div class=\"sk-toggleable__content\"><pre>ColumnTransformer(transformers=[('distance',\n",
       "                                 Pipeline(steps=[('distancetransformer',\n",
       "                                                  DistanceTransformer(distance_type='manhattan')),\n",
       "                                                 ('standardscaler',\n",
       "                                                  StandardScaler())]),\n",
       "                                 ['pickup_latitude', 'pickup_longitude',\n",
       "                                  'dropoff_latitude', 'dropoff_longitude']),\n",
       "                                ('time_features',\n",
       "                                 Pipeline(steps=[('timefeaturesencoder',\n",
       "                                                  TimeFeaturesEncoder(time_column='pickup_dateti...\n",
       "                                 Pipeline(steps=[('direction', Direction()),\n",
       "                                                 ('standardscaler',\n",
       "                                                  StandardScaler())]),\n",
       "                                 ['pickup_latitude', 'pickup_longitude',\n",
       "                                  'dropoff_latitude', 'dropoff_longitude']),\n",
       "                                ('distance_to_center',\n",
       "                                 Pipeline(steps=[('distancetocenter',\n",
       "                                                  DistanceToCenter()),\n",
       "                                                 ('standardscaler',\n",
       "                                                  StandardScaler())]),\n",
       "                                 ['pickup_latitude', 'pickup_longitude',\n",
       "                                  'dropoff_latitude', 'dropoff_longitude'])])</pre></div></div></div><div class=\"sk-parallel\"><div class=\"sk-parallel-item\"><div class=\"sk-item\"><div class=\"sk-label-container\"><div class=\"sk-label sk-toggleable\"><input class=\"sk-toggleable__control sk-hidden--visually\" id=\"c8fbded6-ee2d-4bd2-9999-ba7633d61744\" type=\"checkbox\" ><label class=\"sk-toggleable__label\" for=\"c8fbded6-ee2d-4bd2-9999-ba7633d61744\">distance</label><div class=\"sk-toggleable__content\"><pre>['pickup_latitude', 'pickup_longitude', 'dropoff_latitude', 'dropoff_longitude']</pre></div></div></div><div class=\"sk-serial\"><div class=\"sk-item\"><div class=\"sk-serial\"><div class=\"sk-item\"><div class=\"sk-estimator sk-toggleable\"><input class=\"sk-toggleable__control sk-hidden--visually\" id=\"c95da2ff-0942-4a5b-886b-8e86236e8618\" type=\"checkbox\" ><label class=\"sk-toggleable__label\" for=\"c95da2ff-0942-4a5b-886b-8e86236e8618\">DistanceTransformer</label><div class=\"sk-toggleable__content\"><pre>DistanceTransformer(distance_type='manhattan')</pre></div></div></div><div class=\"sk-item\"><div class=\"sk-estimator sk-toggleable\"><input class=\"sk-toggleable__control sk-hidden--visually\" id=\"8861ed03-f1e1-4538-b7aa-c972615ad15a\" type=\"checkbox\" ><label class=\"sk-toggleable__label\" for=\"8861ed03-f1e1-4538-b7aa-c972615ad15a\">StandardScaler</label><div class=\"sk-toggleable__content\"><pre>StandardScaler()</pre></div></div></div></div></div></div></div></div><div class=\"sk-parallel-item\"><div class=\"sk-item\"><div class=\"sk-label-container\"><div class=\"sk-label sk-toggleable\"><input class=\"sk-toggleable__control sk-hidden--visually\" id=\"eb8c36d7-834d-4f04-ae08-4f216a43f384\" type=\"checkbox\" ><label class=\"sk-toggleable__label\" for=\"eb8c36d7-834d-4f04-ae08-4f216a43f384\">time_features</label><div class=\"sk-toggleable__content\"><pre>['pickup_datetime']</pre></div></div></div><div class=\"sk-serial\"><div class=\"sk-item\"><div class=\"sk-serial\"><div class=\"sk-item\"><div class=\"sk-estimator sk-toggleable\"><input class=\"sk-toggleable__control sk-hidden--visually\" id=\"399f15fe-97a3-4085-b317-26bbb98ef09b\" type=\"checkbox\" ><label class=\"sk-toggleable__label\" for=\"399f15fe-97a3-4085-b317-26bbb98ef09b\">TimeFeaturesEncoder</label><div class=\"sk-toggleable__content\"><pre>TimeFeaturesEncoder(time_column='pickup_datetime')</pre></div></div></div><div class=\"sk-item\"><div class=\"sk-estimator sk-toggleable\"><input class=\"sk-toggleable__control sk-hidden--visually\" id=\"b55de060-04ee-41cf-837b-d3ef6006e511\" type=\"checkbox\" ><label class=\"sk-toggleable__label\" for=\"b55de060-04ee-41cf-837b-d3ef6006e511\">OneHotEncoder</label><div class=\"sk-toggleable__content\"><pre>OneHotEncoder(handle_unknown='ignore')</pre></div></div></div></div></div></div></div></div><div class=\"sk-parallel-item\"><div class=\"sk-item\"><div class=\"sk-label-container\"><div class=\"sk-label sk-toggleable\"><input class=\"sk-toggleable__control sk-hidden--visually\" id=\"f97e4c57-2122-417d-9965-bd298661e85d\" type=\"checkbox\" ><label class=\"sk-toggleable__label\" for=\"f97e4c57-2122-417d-9965-bd298661e85d\">geohash</label><div class=\"sk-toggleable__content\"><pre>['pickup_latitude', 'pickup_longitude', 'dropoff_latitude', 'dropoff_longitude']</pre></div></div></div><div class=\"sk-serial\"><div class=\"sk-item\"><div class=\"sk-serial\"><div class=\"sk-item\"><div class=\"sk-estimator sk-toggleable\"><input class=\"sk-toggleable__control sk-hidden--visually\" id=\"db817c36-94d8-4c61-9ece-8d29ef535d7d\" type=\"checkbox\" ><label class=\"sk-toggleable__label\" for=\"db817c36-94d8-4c61-9ece-8d29ef535d7d\">AddGeohash</label><div class=\"sk-toggleable__content\"><pre>AddGeohash()</pre></div></div></div><div class=\"sk-item\"><div class=\"sk-estimator sk-toggleable\"><input class=\"sk-toggleable__control sk-hidden--visually\" id=\"9311fd7d-d0e5-42c7-8b2e-9d185b9275ab\" type=\"checkbox\" ><label class=\"sk-toggleable__label\" for=\"9311fd7d-d0e5-42c7-8b2e-9d185b9275ab\">HashingEncoder</label><div class=\"sk-toggleable__content\"><pre>HashingEncoder(max_process=8)</pre></div></div></div></div></div></div></div></div><div class=\"sk-parallel-item\"><div class=\"sk-item\"><div class=\"sk-label-container\"><div class=\"sk-label sk-toggleable\"><input class=\"sk-toggleable__control sk-hidden--visually\" id=\"0c984945-a814-4959-9d79-bb4741f657b9\" type=\"checkbox\" ><label class=\"sk-toggleable__label\" for=\"0c984945-a814-4959-9d79-bb4741f657b9\">direction</label><div class=\"sk-toggleable__content\"><pre>['pickup_latitude', 'pickup_longitude', 'dropoff_latitude', 'dropoff_longitude']</pre></div></div></div><div class=\"sk-serial\"><div class=\"sk-item\"><div class=\"sk-serial\"><div class=\"sk-item\"><div class=\"sk-estimator sk-toggleable\"><input class=\"sk-toggleable__control sk-hidden--visually\" id=\"b929dc42-d115-40ed-b001-807d66127072\" type=\"checkbox\" ><label class=\"sk-toggleable__label\" for=\"b929dc42-d115-40ed-b001-807d66127072\">Direction</label><div class=\"sk-toggleable__content\"><pre>Direction()</pre></div></div></div><div class=\"sk-item\"><div class=\"sk-estimator sk-toggleable\"><input class=\"sk-toggleable__control sk-hidden--visually\" id=\"63c1da39-53ca-4818-a2fb-862e58cb1c32\" type=\"checkbox\" ><label class=\"sk-toggleable__label\" for=\"63c1da39-53ca-4818-a2fb-862e58cb1c32\">StandardScaler</label><div class=\"sk-toggleable__content\"><pre>StandardScaler()</pre></div></div></div></div></div></div></div></div><div class=\"sk-parallel-item\"><div class=\"sk-item\"><div class=\"sk-label-container\"><div class=\"sk-label sk-toggleable\"><input class=\"sk-toggleable__control sk-hidden--visually\" id=\"1acb54cc-918c-4d2f-bf09-e1ca2c22eec4\" type=\"checkbox\" ><label class=\"sk-toggleable__label\" for=\"1acb54cc-918c-4d2f-bf09-e1ca2c22eec4\">distance_to_center</label><div class=\"sk-toggleable__content\"><pre>['pickup_latitude', 'pickup_longitude', 'dropoff_latitude', 'dropoff_longitude']</pre></div></div></div><div class=\"sk-serial\"><div class=\"sk-item\"><div class=\"sk-serial\"><div class=\"sk-item\"><div class=\"sk-estimator sk-toggleable\"><input class=\"sk-toggleable__control sk-hidden--visually\" id=\"f304c544-35c3-4b62-9b91-6a9e1f7e951f\" type=\"checkbox\" ><label class=\"sk-toggleable__label\" for=\"f304c544-35c3-4b62-9b91-6a9e1f7e951f\">DistanceToCenter</label><div class=\"sk-toggleable__content\"><pre>DistanceToCenter()</pre></div></div></div><div class=\"sk-item\"><div class=\"sk-estimator sk-toggleable\"><input class=\"sk-toggleable__control sk-hidden--visually\" id=\"aabb49f3-c6a2-472a-96cf-02233e85c5bd\" type=\"checkbox\" ><label class=\"sk-toggleable__label\" for=\"aabb49f3-c6a2-472a-96cf-02233e85c5bd\">StandardScaler</label><div class=\"sk-toggleable__content\"><pre>StandardScaler()</pre></div></div></div></div></div></div></div></div></div></div><div class=\"sk-item\"><div class=\"sk-estimator sk-toggleable\"><input class=\"sk-toggleable__control sk-hidden--visually\" id=\"24b27af1-ceb9-4094-a630-34872f10ec9f\" type=\"checkbox\" ><label class=\"sk-toggleable__label\" for=\"24b27af1-ceb9-4094-a630-34872f10ec9f\">XGBRegressor</label><div class=\"sk-toggleable__content\"><pre>XGBRegressor(base_score=None, booster=None, colsample_bylevel=None,\n",
       "             colsample_bynode=None, colsample_bytree=None, gamma=3, gpu_id=None,\n",
       "             importance_type='gain', interaction_constraints=None,\n",
       "             learning_rate=[0.1, 0.01, 0.05], max_delta_step=None,\n",
       "             max_depth=range(10, 20, 2), min_child_weight=None, missing=nan,\n",
       "             monotone_constraints=None, n_estimators=range(60, 220, 40),\n",
       "             n_jobs=-1, num_parallel_tree=None, random_state=None,\n",
       "             reg_alpha=None, reg_lambda=None, scale_pos_weight=None,\n",
       "             subsample=None, tree_method=None, validate_parameters=None,\n",
       "             verbosity=None)</pre></div></div></div></div></div></div></div>"
      ],
      "text/plain": [
       "Pipeline(steps=[('features',\n",
       "                 ColumnTransformer(transformers=[('distance',\n",
       "                                                  Pipeline(steps=[('distancetransformer',\n",
       "                                                                   DistanceTransformer(distance_type='manhattan')),\n",
       "                                                                  ('standardscaler',\n",
       "                                                                   StandardScaler())]),\n",
       "                                                  ['pickup_latitude',\n",
       "                                                   'pickup_longitude',\n",
       "                                                   'dropoff_latitude',\n",
       "                                                   'dropoff_longitude']),\n",
       "                                                 ('time_features',\n",
       "                                                  Pipeline(steps=[('timefeaturesencoder',\n",
       "                                                                   TimeFeaturesEncode...\n",
       "                              interaction_constraints=None,\n",
       "                              learning_rate=[0.1, 0.01, 0.05],\n",
       "                              max_delta_step=None, max_depth=range(10, 20, 2),\n",
       "                              min_child_weight=None, missing=nan,\n",
       "                              monotone_constraints=None,\n",
       "                              n_estimators=range(60, 220, 40), n_jobs=-1,\n",
       "                              num_parallel_tree=None, random_state=None,\n",
       "                              reg_alpha=None, reg_lambda=None,\n",
       "                              scale_pos_weight=None, subsample=None,\n",
       "                              tree_method=None, validate_parameters=None,\n",
       "                              verbosity=None))])"
      ]
     },
     "execution_count": 10,
     "metadata": {},
     "output_type": "execute_result"
    }
   ],
   "source": [
    "trainer.pipeline"
   ]
  },
  {
   "cell_type": "code",
   "execution_count": 19,
   "id": "israeli-percentage",
   "metadata": {},
   "outputs": [],
   "source": [
    "model_estimators = {'rgs__{}'.format(key):value for key, value in trainer.model_params.items()}"
   ]
  },
  {
   "cell_type": "code",
   "execution_count": 18,
   "id": "together-chinese",
   "metadata": {},
   "outputs": [],
   "source": [
    "from sklearn.model_selection import RandomizedSearchCV"
   ]
  },
  {
   "cell_type": "code",
   "execution_count": 20,
   "id": "rural-backing",
   "metadata": {
    "collapsed": true
   },
   "outputs": [
    {
     "ename": "AttributeError",
     "evalue": "'RandomizedSearchCV' object has no attribute '_best_estimator'",
     "output_type": "error",
     "traceback": [
      "\u001b[0;31m---------------------------------------------------------------------------\u001b[0m",
      "\u001b[0;31mAttributeError\u001b[0m                            Traceback (most recent call last)",
      "\u001b[0;32m<ipython-input-20-5730a73297b2>\u001b[0m in \u001b[0;36m<module>\u001b[0;34m\u001b[0m\n\u001b[1;32m      1\u001b[0m \u001b[0mclf\u001b[0m \u001b[0;34m=\u001b[0m \u001b[0mRandomizedSearchCV\u001b[0m\u001b[0;34m(\u001b[0m\u001b[0mtrainer\u001b[0m\u001b[0;34m.\u001b[0m\u001b[0mpipeline\u001b[0m\u001b[0;34m,\u001b[0m \u001b[0mmodel_estimators\u001b[0m\u001b[0;34m)\u001b[0m\u001b[0;34m\u001b[0m\u001b[0;34m\u001b[0m\u001b[0m\n\u001b[1;32m      2\u001b[0m \u001b[0msearch\u001b[0m \u001b[0;34m=\u001b[0m \u001b[0mclf\u001b[0m\u001b[0;34m.\u001b[0m\u001b[0mfit\u001b[0m\u001b[0;34m(\u001b[0m\u001b[0mtrainer\u001b[0m\u001b[0;34m.\u001b[0m\u001b[0mX_train\u001b[0m\u001b[0;34m,\u001b[0m \u001b[0mtrainer\u001b[0m\u001b[0;34m.\u001b[0m\u001b[0my_train\u001b[0m\u001b[0;34m)\u001b[0m\u001b[0;34m\u001b[0m\u001b[0;34m\u001b[0m\u001b[0m\n\u001b[0;32m----> 3\u001b[0;31m \u001b[0msearch\u001b[0m\u001b[0;34m.\u001b[0m\u001b[0m_best_estimator\u001b[0m\u001b[0;34m\u001b[0m\u001b[0;34m\u001b[0m\u001b[0m\n\u001b[0m",
      "\u001b[0;31mAttributeError\u001b[0m: 'RandomizedSearchCV' object has no attribute '_best_estimator'"
     ]
    }
   ],
   "source": [
    "clf = RandomizedSearchCV(trainer.pipeline, model_estimators, scoring='rmse')\n",
    "search = clf.fit(trainer.X_train, trainer.y_train)"
   ]
  },
  {
   "cell_type": "code",
   "execution_count": 24,
   "id": "imported-riverside",
   "metadata": {},
   "outputs": [
    {
     "data": {
      "text/html": [
       "<style>#sk-65afa290-d8a4-4f40-b886-d3e0f83d3e39 {color: black;background-color: white;}#sk-65afa290-d8a4-4f40-b886-d3e0f83d3e39 pre{padding: 0;}#sk-65afa290-d8a4-4f40-b886-d3e0f83d3e39 div.sk-toggleable {background-color: white;}#sk-65afa290-d8a4-4f40-b886-d3e0f83d3e39 label.sk-toggleable__label {cursor: pointer;display: block;width: 100%;margin-bottom: 0;padding: 0.2em 0.3em;box-sizing: border-box;text-align: center;}#sk-65afa290-d8a4-4f40-b886-d3e0f83d3e39 div.sk-toggleable__content {max-height: 0;max-width: 0;overflow: hidden;text-align: left;background-color: #f0f8ff;}#sk-65afa290-d8a4-4f40-b886-d3e0f83d3e39 div.sk-toggleable__content pre {margin: 0.2em;color: black;border-radius: 0.25em;background-color: #f0f8ff;}#sk-65afa290-d8a4-4f40-b886-d3e0f83d3e39 input.sk-toggleable__control:checked~div.sk-toggleable__content {max-height: 200px;max-width: 100%;overflow: auto;}#sk-65afa290-d8a4-4f40-b886-d3e0f83d3e39 div.sk-estimator input.sk-toggleable__control:checked~label.sk-toggleable__label {background-color: #d4ebff;}#sk-65afa290-d8a4-4f40-b886-d3e0f83d3e39 div.sk-label input.sk-toggleable__control:checked~label.sk-toggleable__label {background-color: #d4ebff;}#sk-65afa290-d8a4-4f40-b886-d3e0f83d3e39 input.sk-hidden--visually {border: 0;clip: rect(1px 1px 1px 1px);clip: rect(1px, 1px, 1px, 1px);height: 1px;margin: -1px;overflow: hidden;padding: 0;position: absolute;width: 1px;}#sk-65afa290-d8a4-4f40-b886-d3e0f83d3e39 div.sk-estimator {font-family: monospace;background-color: #f0f8ff;margin: 0.25em 0.25em;border: 1px dotted black;border-radius: 0.25em;box-sizing: border-box;}#sk-65afa290-d8a4-4f40-b886-d3e0f83d3e39 div.sk-estimator:hover {background-color: #d4ebff;}#sk-65afa290-d8a4-4f40-b886-d3e0f83d3e39 div.sk-parallel-item::after {content: \"\";width: 100%;border-bottom: 1px solid gray;flex-grow: 1;}#sk-65afa290-d8a4-4f40-b886-d3e0f83d3e39 div.sk-label:hover label.sk-toggleable__label {background-color: #d4ebff;}#sk-65afa290-d8a4-4f40-b886-d3e0f83d3e39 div.sk-serial::before {content: \"\";position: absolute;border-left: 1px solid gray;box-sizing: border-box;top: 2em;bottom: 0;left: 50%;}#sk-65afa290-d8a4-4f40-b886-d3e0f83d3e39 div.sk-serial {display: flex;flex-direction: column;align-items: center;background-color: white;}#sk-65afa290-d8a4-4f40-b886-d3e0f83d3e39 div.sk-item {z-index: 1;}#sk-65afa290-d8a4-4f40-b886-d3e0f83d3e39 div.sk-parallel {display: flex;align-items: stretch;justify-content: center;background-color: white;}#sk-65afa290-d8a4-4f40-b886-d3e0f83d3e39 div.sk-parallel-item {display: flex;flex-direction: column;position: relative;background-color: white;}#sk-65afa290-d8a4-4f40-b886-d3e0f83d3e39 div.sk-parallel-item:first-child::after {align-self: flex-end;width: 50%;}#sk-65afa290-d8a4-4f40-b886-d3e0f83d3e39 div.sk-parallel-item:last-child::after {align-self: flex-start;width: 50%;}#sk-65afa290-d8a4-4f40-b886-d3e0f83d3e39 div.sk-parallel-item:only-child::after {width: 0;}#sk-65afa290-d8a4-4f40-b886-d3e0f83d3e39 div.sk-dashed-wrapped {border: 1px dashed gray;margin: 0.2em;box-sizing: border-box;padding-bottom: 0.1em;background-color: white;position: relative;}#sk-65afa290-d8a4-4f40-b886-d3e0f83d3e39 div.sk-label label {font-family: monospace;font-weight: bold;background-color: white;display: inline-block;line-height: 1.2em;}#sk-65afa290-d8a4-4f40-b886-d3e0f83d3e39 div.sk-label-container {position: relative;z-index: 2;text-align: center;}#sk-65afa290-d8a4-4f40-b886-d3e0f83d3e39 div.sk-container {display: inline-block;position: relative;}</style><div id=\"sk-65afa290-d8a4-4f40-b886-d3e0f83d3e39\" class\"sk-top-container\"><div class=\"sk-container\"><div class=\"sk-item sk-dashed-wrapped\"><div class=\"sk-label-container\"><div class=\"sk-label sk-toggleable\"><input class=\"sk-toggleable__control sk-hidden--visually\" id=\"4d82619d-c57b-4c87-93d6-0e28b9ad6bcc\" type=\"checkbox\" ><label class=\"sk-toggleable__label\" for=\"4d82619d-c57b-4c87-93d6-0e28b9ad6bcc\">Pipeline</label><div class=\"sk-toggleable__content\"><pre>Pipeline(steps=[('features',\n",
       "                 ColumnTransformer(transformers=[('distance',\n",
       "                                                  Pipeline(steps=[('distancetransformer',\n",
       "                                                                   DistanceTransformer(distance_type='manhattan')),\n",
       "                                                                  ('standardscaler',\n",
       "                                                                   StandardScaler())]),\n",
       "                                                  ['pickup_latitude',\n",
       "                                                   'pickup_longitude',\n",
       "                                                   'dropoff_latitude',\n",
       "                                                   'dropoff_longitude']),\n",
       "                                                 ('time_features',\n",
       "                                                  Pipeline(steps=[('timefeaturesencoder',\n",
       "                                                                   TimeFeaturesEncode...\n",
       "                              colsample_bytree=1, gamma=3, gpu_id=-1,\n",
       "                              importance_type='gain',\n",
       "                              interaction_constraints='', learning_rate=0.05,\n",
       "                              max_delta_step=0, max_depth=12,\n",
       "                              min_child_weight=1, missing=nan,\n",
       "                              monotone_constraints='()', n_estimators=140,\n",
       "                              n_jobs=-1, num_parallel_tree=1, random_state=0,\n",
       "                              reg_alpha=0, reg_lambda=1, scale_pos_weight=1,\n",
       "                              subsample=1, tree_method='exact',\n",
       "                              validate_parameters=1, verbosity=None))])</pre></div></div></div><div class=\"sk-serial\"><div class=\"sk-item sk-dashed-wrapped\"><div class=\"sk-label-container\"><div class=\"sk-label sk-toggleable\"><input class=\"sk-toggleable__control sk-hidden--visually\" id=\"09b6f119-8ee4-47eb-b1fb-de7e7c692370\" type=\"checkbox\" ><label class=\"sk-toggleable__label\" for=\"09b6f119-8ee4-47eb-b1fb-de7e7c692370\">features: ColumnTransformer</label><div class=\"sk-toggleable__content\"><pre>ColumnTransformer(transformers=[('distance',\n",
       "                                 Pipeline(steps=[('distancetransformer',\n",
       "                                                  DistanceTransformer(distance_type='manhattan')),\n",
       "                                                 ('standardscaler',\n",
       "                                                  StandardScaler())]),\n",
       "                                 ['pickup_latitude', 'pickup_longitude',\n",
       "                                  'dropoff_latitude', 'dropoff_longitude']),\n",
       "                                ('time_features',\n",
       "                                 Pipeline(steps=[('timefeaturesencoder',\n",
       "                                                  TimeFeaturesEncoder(time_column='pickup_dateti...\n",
       "                                 Pipeline(steps=[('direction', Direction()),\n",
       "                                                 ('standardscaler',\n",
       "                                                  StandardScaler())]),\n",
       "                                 ['pickup_latitude', 'pickup_longitude',\n",
       "                                  'dropoff_latitude', 'dropoff_longitude']),\n",
       "                                ('distance_to_center',\n",
       "                                 Pipeline(steps=[('distancetocenter',\n",
       "                                                  DistanceToCenter()),\n",
       "                                                 ('standardscaler',\n",
       "                                                  StandardScaler())]),\n",
       "                                 ['pickup_latitude', 'pickup_longitude',\n",
       "                                  'dropoff_latitude', 'dropoff_longitude'])])</pre></div></div></div><div class=\"sk-parallel\"><div class=\"sk-parallel-item\"><div class=\"sk-item\"><div class=\"sk-label-container\"><div class=\"sk-label sk-toggleable\"><input class=\"sk-toggleable__control sk-hidden--visually\" id=\"e6eacf80-755d-4fa6-b17a-d3146f9c8079\" type=\"checkbox\" ><label class=\"sk-toggleable__label\" for=\"e6eacf80-755d-4fa6-b17a-d3146f9c8079\">distance</label><div class=\"sk-toggleable__content\"><pre>['pickup_latitude', 'pickup_longitude', 'dropoff_latitude', 'dropoff_longitude']</pre></div></div></div><div class=\"sk-serial\"><div class=\"sk-item\"><div class=\"sk-serial\"><div class=\"sk-item\"><div class=\"sk-estimator sk-toggleable\"><input class=\"sk-toggleable__control sk-hidden--visually\" id=\"38fb3137-9986-48c0-9550-3b4a8e5b0ee5\" type=\"checkbox\" ><label class=\"sk-toggleable__label\" for=\"38fb3137-9986-48c0-9550-3b4a8e5b0ee5\">DistanceTransformer</label><div class=\"sk-toggleable__content\"><pre>DistanceTransformer(distance_type='manhattan')</pre></div></div></div><div class=\"sk-item\"><div class=\"sk-estimator sk-toggleable\"><input class=\"sk-toggleable__control sk-hidden--visually\" id=\"f827b8c0-c4cc-44e7-9b67-f13c2ed31c29\" type=\"checkbox\" ><label class=\"sk-toggleable__label\" for=\"f827b8c0-c4cc-44e7-9b67-f13c2ed31c29\">StandardScaler</label><div class=\"sk-toggleable__content\"><pre>StandardScaler()</pre></div></div></div></div></div></div></div></div><div class=\"sk-parallel-item\"><div class=\"sk-item\"><div class=\"sk-label-container\"><div class=\"sk-label sk-toggleable\"><input class=\"sk-toggleable__control sk-hidden--visually\" id=\"0b58fcc9-4619-4769-9a39-9f43d146df77\" type=\"checkbox\" ><label class=\"sk-toggleable__label\" for=\"0b58fcc9-4619-4769-9a39-9f43d146df77\">time_features</label><div class=\"sk-toggleable__content\"><pre>['pickup_datetime']</pre></div></div></div><div class=\"sk-serial\"><div class=\"sk-item\"><div class=\"sk-serial\"><div class=\"sk-item\"><div class=\"sk-estimator sk-toggleable\"><input class=\"sk-toggleable__control sk-hidden--visually\" id=\"de4b7b7b-ae57-4f28-a811-3360e3d0159d\" type=\"checkbox\" ><label class=\"sk-toggleable__label\" for=\"de4b7b7b-ae57-4f28-a811-3360e3d0159d\">TimeFeaturesEncoder</label><div class=\"sk-toggleable__content\"><pre>TimeFeaturesEncoder(time_column='pickup_datetime')</pre></div></div></div><div class=\"sk-item\"><div class=\"sk-estimator sk-toggleable\"><input class=\"sk-toggleable__control sk-hidden--visually\" id=\"d8056835-f43d-488b-9332-ab7feef9aff2\" type=\"checkbox\" ><label class=\"sk-toggleable__label\" for=\"d8056835-f43d-488b-9332-ab7feef9aff2\">OneHotEncoder</label><div class=\"sk-toggleable__content\"><pre>OneHotEncoder(handle_unknown='ignore')</pre></div></div></div></div></div></div></div></div><div class=\"sk-parallel-item\"><div class=\"sk-item\"><div class=\"sk-label-container\"><div class=\"sk-label sk-toggleable\"><input class=\"sk-toggleable__control sk-hidden--visually\" id=\"dfac906a-6da6-409b-8457-1abeb9664d4c\" type=\"checkbox\" ><label class=\"sk-toggleable__label\" for=\"dfac906a-6da6-409b-8457-1abeb9664d4c\">geohash</label><div class=\"sk-toggleable__content\"><pre>['pickup_latitude', 'pickup_longitude', 'dropoff_latitude', 'dropoff_longitude']</pre></div></div></div><div class=\"sk-serial\"><div class=\"sk-item\"><div class=\"sk-serial\"><div class=\"sk-item\"><div class=\"sk-estimator sk-toggleable\"><input class=\"sk-toggleable__control sk-hidden--visually\" id=\"b432d2c6-9940-4b4f-8d62-9bd1c203ef6a\" type=\"checkbox\" ><label class=\"sk-toggleable__label\" for=\"b432d2c6-9940-4b4f-8d62-9bd1c203ef6a\">AddGeohash</label><div class=\"sk-toggleable__content\"><pre>AddGeohash()</pre></div></div></div><div class=\"sk-item\"><div class=\"sk-estimator sk-toggleable\"><input class=\"sk-toggleable__control sk-hidden--visually\" id=\"fee86038-9013-4533-8013-2f1a6b8b096e\" type=\"checkbox\" ><label class=\"sk-toggleable__label\" for=\"fee86038-9013-4533-8013-2f1a6b8b096e\">HashingEncoder</label><div class=\"sk-toggleable__content\"><pre>HashingEncoder(max_process=8)</pre></div></div></div></div></div></div></div></div><div class=\"sk-parallel-item\"><div class=\"sk-item\"><div class=\"sk-label-container\"><div class=\"sk-label sk-toggleable\"><input class=\"sk-toggleable__control sk-hidden--visually\" id=\"fc4013c5-80bc-4c26-9a87-45c5cb45821a\" type=\"checkbox\" ><label class=\"sk-toggleable__label\" for=\"fc4013c5-80bc-4c26-9a87-45c5cb45821a\">direction</label><div class=\"sk-toggleable__content\"><pre>['pickup_latitude', 'pickup_longitude', 'dropoff_latitude', 'dropoff_longitude']</pre></div></div></div><div class=\"sk-serial\"><div class=\"sk-item\"><div class=\"sk-serial\"><div class=\"sk-item\"><div class=\"sk-estimator sk-toggleable\"><input class=\"sk-toggleable__control sk-hidden--visually\" id=\"70da6333-cfd6-4f71-9c5c-cd78ab10f097\" type=\"checkbox\" ><label class=\"sk-toggleable__label\" for=\"70da6333-cfd6-4f71-9c5c-cd78ab10f097\">Direction</label><div class=\"sk-toggleable__content\"><pre>Direction()</pre></div></div></div><div class=\"sk-item\"><div class=\"sk-estimator sk-toggleable\"><input class=\"sk-toggleable__control sk-hidden--visually\" id=\"16d24b23-20b5-4961-b6c9-9bfb4b778f27\" type=\"checkbox\" ><label class=\"sk-toggleable__label\" for=\"16d24b23-20b5-4961-b6c9-9bfb4b778f27\">StandardScaler</label><div class=\"sk-toggleable__content\"><pre>StandardScaler()</pre></div></div></div></div></div></div></div></div><div class=\"sk-parallel-item\"><div class=\"sk-item\"><div class=\"sk-label-container\"><div class=\"sk-label sk-toggleable\"><input class=\"sk-toggleable__control sk-hidden--visually\" id=\"d5c58226-495b-4810-a9dc-1a4861345d7f\" type=\"checkbox\" ><label class=\"sk-toggleable__label\" for=\"d5c58226-495b-4810-a9dc-1a4861345d7f\">distance_to_center</label><div class=\"sk-toggleable__content\"><pre>['pickup_latitude', 'pickup_longitude', 'dropoff_latitude', 'dropoff_longitude']</pre></div></div></div><div class=\"sk-serial\"><div class=\"sk-item\"><div class=\"sk-serial\"><div class=\"sk-item\"><div class=\"sk-estimator sk-toggleable\"><input class=\"sk-toggleable__control sk-hidden--visually\" id=\"6b55422d-d9c6-4bca-8818-c0eeb8f9168e\" type=\"checkbox\" ><label class=\"sk-toggleable__label\" for=\"6b55422d-d9c6-4bca-8818-c0eeb8f9168e\">DistanceToCenter</label><div class=\"sk-toggleable__content\"><pre>DistanceToCenter()</pre></div></div></div><div class=\"sk-item\"><div class=\"sk-estimator sk-toggleable\"><input class=\"sk-toggleable__control sk-hidden--visually\" id=\"d42970e7-0f26-4199-8026-2590d60f2704\" type=\"checkbox\" ><label class=\"sk-toggleable__label\" for=\"d42970e7-0f26-4199-8026-2590d60f2704\">StandardScaler</label><div class=\"sk-toggleable__content\"><pre>StandardScaler()</pre></div></div></div></div></div></div></div></div></div></div><div class=\"sk-item\"><div class=\"sk-estimator sk-toggleable\"><input class=\"sk-toggleable__control sk-hidden--visually\" id=\"3e760616-77a4-449f-9a68-6319830f1630\" type=\"checkbox\" ><label class=\"sk-toggleable__label\" for=\"3e760616-77a4-449f-9a68-6319830f1630\">XGBRegressor</label><div class=\"sk-toggleable__content\"><pre>XGBRegressor(base_score=0.5, booster='gbtree', colsample_bylevel=1,\n",
       "             colsample_bynode=1, colsample_bytree=1, gamma=3, gpu_id=-1,\n",
       "             importance_type='gain', interaction_constraints='',\n",
       "             learning_rate=0.05, max_delta_step=0, max_depth=12,\n",
       "             min_child_weight=1, missing=nan, monotone_constraints='()',\n",
       "             n_estimators=140, n_jobs=-1, num_parallel_tree=1, random_state=0,\n",
       "             reg_alpha=0, reg_lambda=1, scale_pos_weight=1, subsample=1,\n",
       "             tree_method='exact', validate_parameters=1, verbosity=None)</pre></div></div></div></div></div></div></div>"
      ],
      "text/plain": [
       "Pipeline(steps=[('features',\n",
       "                 ColumnTransformer(transformers=[('distance',\n",
       "                                                  Pipeline(steps=[('distancetransformer',\n",
       "                                                                   DistanceTransformer(distance_type='manhattan')),\n",
       "                                                                  ('standardscaler',\n",
       "                                                                   StandardScaler())]),\n",
       "                                                  ['pickup_latitude',\n",
       "                                                   'pickup_longitude',\n",
       "                                                   'dropoff_latitude',\n",
       "                                                   'dropoff_longitude']),\n",
       "                                                 ('time_features',\n",
       "                                                  Pipeline(steps=[('timefeaturesencoder',\n",
       "                                                                   TimeFeaturesEncode...\n",
       "                              colsample_bytree=1, gamma=3, gpu_id=-1,\n",
       "                              importance_type='gain',\n",
       "                              interaction_constraints='', learning_rate=0.05,\n",
       "                              max_delta_step=0, max_depth=12,\n",
       "                              min_child_weight=1, missing=nan,\n",
       "                              monotone_constraints='()', n_estimators=140,\n",
       "                              n_jobs=-1, num_parallel_tree=1, random_state=0,\n",
       "                              reg_alpha=0, reg_lambda=1, scale_pos_weight=1,\n",
       "                              subsample=1, tree_method='exact',\n",
       "                              validate_parameters=1, verbosity=None))])"
      ]
     },
     "execution_count": 24,
     "metadata": {},
     "output_type": "execute_result"
    }
   ],
   "source": [
    "search.best_estimator_"
   ]
  },
  {
   "cell_type": "code",
   "execution_count": null,
   "id": "nasty-brother",
   "metadata": {},
   "outputs": [],
   "source": []
  }
 ],
 "metadata": {
  "kernelspec": {
   "display_name": "Python 3",
   "language": "python",
   "name": "python3"
  },
  "language_info": {
   "codemirror_mode": {
    "name": "ipython",
    "version": 3
   },
   "file_extension": ".py",
   "mimetype": "text/x-python",
   "name": "python",
   "nbconvert_exporter": "python",
   "pygments_lexer": "ipython3",
   "version": "3.8.6"
  },
  "toc": {
   "base_numbering": 1,
   "nav_menu": {},
   "number_sections": true,
   "sideBar": true,
   "skip_h1_title": false,
   "title_cell": "Table of Contents",
   "title_sidebar": "Contents",
   "toc_cell": false,
   "toc_position": {},
   "toc_section_display": true,
   "toc_window_display": false
  }
 },
 "nbformat": 4,
 "nbformat_minor": 5
}
