{
 "cells": [
  {
   "cell_type": "code",
   "execution_count": 1,
   "metadata": {},
   "outputs": [],
   "source": [
    "from TaxiFareModel.trainer import Trainer\n",
    "from TaxiFareModel.data import get_data, clean_df"
   ]
  },
  {
   "cell_type": "code",
   "execution_count": 2,
   "metadata": {},
   "outputs": [
    {
     "name": "stdout",
     "output_type": "stream",
     "text": [
      "get_data 1.78\n"
     ]
    }
   ],
   "source": [
    "df = get_data()\n",
    "df = clean_df(df)\n",
    "y_train = df[\"fare_amount\"]\n",
    "X_train = df.drop(\"fare_amount\", axis=1)\n",
    "trainar = Trainer(X_train, y_train)"
   ]
  },
  {
   "cell_type": "code",
   "execution_count": 7,
   "metadata": {},
   "outputs": [
    {
     "data": {
      "text/html": [
       "<style>#sk-1b06f70e-c272-43f3-b11d-3a9495970b6c {color: black;background-color: white;}#sk-1b06f70e-c272-43f3-b11d-3a9495970b6c pre{padding: 0;}#sk-1b06f70e-c272-43f3-b11d-3a9495970b6c div.sk-toggleable {background-color: white;}#sk-1b06f70e-c272-43f3-b11d-3a9495970b6c label.sk-toggleable__label {cursor: pointer;display: block;width: 100%;margin-bottom: 0;padding: 0.2em 0.3em;box-sizing: border-box;text-align: center;}#sk-1b06f70e-c272-43f3-b11d-3a9495970b6c div.sk-toggleable__content {max-height: 0;max-width: 0;overflow: hidden;text-align: left;background-color: #f0f8ff;}#sk-1b06f70e-c272-43f3-b11d-3a9495970b6c div.sk-toggleable__content pre {margin: 0.2em;color: black;border-radius: 0.25em;background-color: #f0f8ff;}#sk-1b06f70e-c272-43f3-b11d-3a9495970b6c input.sk-toggleable__control:checked~div.sk-toggleable__content {max-height: 200px;max-width: 100%;overflow: auto;}#sk-1b06f70e-c272-43f3-b11d-3a9495970b6c div.sk-estimator input.sk-toggleable__control:checked~label.sk-toggleable__label {background-color: #d4ebff;}#sk-1b06f70e-c272-43f3-b11d-3a9495970b6c div.sk-label input.sk-toggleable__control:checked~label.sk-toggleable__label {background-color: #d4ebff;}#sk-1b06f70e-c272-43f3-b11d-3a9495970b6c input.sk-hidden--visually {border: 0;clip: rect(1px 1px 1px 1px);clip: rect(1px, 1px, 1px, 1px);height: 1px;margin: -1px;overflow: hidden;padding: 0;position: absolute;width: 1px;}#sk-1b06f70e-c272-43f3-b11d-3a9495970b6c div.sk-estimator {font-family: monospace;background-color: #f0f8ff;margin: 0.25em 0.25em;border: 1px dotted black;border-radius: 0.25em;box-sizing: border-box;}#sk-1b06f70e-c272-43f3-b11d-3a9495970b6c div.sk-estimator:hover {background-color: #d4ebff;}#sk-1b06f70e-c272-43f3-b11d-3a9495970b6c div.sk-parallel-item::after {content: \"\";width: 100%;border-bottom: 1px solid gray;flex-grow: 1;}#sk-1b06f70e-c272-43f3-b11d-3a9495970b6c div.sk-label:hover label.sk-toggleable__label {background-color: #d4ebff;}#sk-1b06f70e-c272-43f3-b11d-3a9495970b6c div.sk-serial::before {content: \"\";position: absolute;border-left: 1px solid gray;box-sizing: border-box;top: 2em;bottom: 0;left: 50%;}#sk-1b06f70e-c272-43f3-b11d-3a9495970b6c div.sk-serial {display: flex;flex-direction: column;align-items: center;background-color: white;}#sk-1b06f70e-c272-43f3-b11d-3a9495970b6c div.sk-item {z-index: 1;}#sk-1b06f70e-c272-43f3-b11d-3a9495970b6c div.sk-parallel {display: flex;align-items: stretch;justify-content: center;background-color: white;}#sk-1b06f70e-c272-43f3-b11d-3a9495970b6c div.sk-parallel-item {display: flex;flex-direction: column;position: relative;background-color: white;}#sk-1b06f70e-c272-43f3-b11d-3a9495970b6c div.sk-parallel-item:first-child::after {align-self: flex-end;width: 50%;}#sk-1b06f70e-c272-43f3-b11d-3a9495970b6c div.sk-parallel-item:last-child::after {align-self: flex-start;width: 50%;}#sk-1b06f70e-c272-43f3-b11d-3a9495970b6c div.sk-parallel-item:only-child::after {width: 0;}#sk-1b06f70e-c272-43f3-b11d-3a9495970b6c div.sk-dashed-wrapped {border: 1px dashed gray;margin: 0.2em;box-sizing: border-box;padding-bottom: 0.1em;background-color: white;position: relative;}#sk-1b06f70e-c272-43f3-b11d-3a9495970b6c div.sk-label label {font-family: monospace;font-weight: bold;background-color: white;display: inline-block;line-height: 1.2em;}#sk-1b06f70e-c272-43f3-b11d-3a9495970b6c div.sk-label-container {position: relative;z-index: 2;text-align: center;}#sk-1b06f70e-c272-43f3-b11d-3a9495970b6c div.sk-container {display: inline-block;position: relative;}</style><div id=\"sk-1b06f70e-c272-43f3-b11d-3a9495970b6c\" class\"sk-top-container\"><div class=\"sk-container\"><div class=\"sk-item sk-dashed-wrapped\"><div class=\"sk-label-container\"><div class=\"sk-label sk-toggleable\"><input class=\"sk-toggleable__control sk-hidden--visually\" id=\"960a118d-e78f-40bb-a330-b2a2b84ca11b\" type=\"checkbox\" ><label class=\"sk-toggleable__label\" for=\"960a118d-e78f-40bb-a330-b2a2b84ca11b\">Pipeline</label><div class=\"sk-toggleable__content\"><pre>Pipeline(steps=[('features',\n",
       "                 ColumnTransformer(transformers=[('distance',\n",
       "                                                  Pipeline(steps=[('distancetransformer',\n",
       "                                                                   DistanceTransformer(distance_type='manhattan')),\n",
       "                                                                  ('standardscaler',\n",
       "                                                                   StandardScaler())]),\n",
       "                                                  ['pickup_latitude',\n",
       "                                                   'pickup_longitude',\n",
       "                                                   'dropoff_latitude',\n",
       "                                                   'dropoff_longitude']),\n",
       "                                                 ('time_features',\n",
       "                                                  Pipeline(steps=[('timefeaturesencoder',\n",
       "                                                                   TimeFeaturesEncode...\n",
       "                                                                   Direction()),\n",
       "                                                                  ('standardscaler',\n",
       "                                                                   StandardScaler())]),\n",
       "                                                  ['pickup_latitude',\n",
       "                                                   'pickup_longitude',\n",
       "                                                   'dropoff_latitude',\n",
       "                                                   'dropoff_longitude']),\n",
       "                                                 ('distance_to_center',\n",
       "                                                  Pipeline(steps=[('distancetocenter',\n",
       "                                                                   DistanceToCenter()),\n",
       "                                                                  ('standardscaler',\n",
       "                                                                   StandardScaler())]),\n",
       "                                                  ['pickup_latitude',\n",
       "                                                   'pickup_longitude',\n",
       "                                                   'dropoff_latitude',\n",
       "                                                   'dropoff_longitude'])])),\n",
       "                ('rgs', LinearRegression())])</pre></div></div></div><div class=\"sk-serial\"><div class=\"sk-item sk-dashed-wrapped\"><div class=\"sk-label-container\"><div class=\"sk-label sk-toggleable\"><input class=\"sk-toggleable__control sk-hidden--visually\" id=\"843d76af-1403-4c01-8d4d-f65e75a005b0\" type=\"checkbox\" ><label class=\"sk-toggleable__label\" for=\"843d76af-1403-4c01-8d4d-f65e75a005b0\">features: ColumnTransformer</label><div class=\"sk-toggleable__content\"><pre>ColumnTransformer(transformers=[('distance',\n",
       "                                 Pipeline(steps=[('distancetransformer',\n",
       "                                                  DistanceTransformer(distance_type='manhattan')),\n",
       "                                                 ('standardscaler',\n",
       "                                                  StandardScaler())]),\n",
       "                                 ['pickup_latitude', 'pickup_longitude',\n",
       "                                  'dropoff_latitude', 'dropoff_longitude']),\n",
       "                                ('time_features',\n",
       "                                 Pipeline(steps=[('timefeaturesencoder',\n",
       "                                                  TimeFeaturesEncoder(time_column='pickup_dateti...\n",
       "                                 Pipeline(steps=[('direction', Direction()),\n",
       "                                                 ('standardscaler',\n",
       "                                                  StandardScaler())]),\n",
       "                                 ['pickup_latitude', 'pickup_longitude',\n",
       "                                  'dropoff_latitude', 'dropoff_longitude']),\n",
       "                                ('distance_to_center',\n",
       "                                 Pipeline(steps=[('distancetocenter',\n",
       "                                                  DistanceToCenter()),\n",
       "                                                 ('standardscaler',\n",
       "                                                  StandardScaler())]),\n",
       "                                 ['pickup_latitude', 'pickup_longitude',\n",
       "                                  'dropoff_latitude', 'dropoff_longitude'])])</pre></div></div></div><div class=\"sk-parallel\"><div class=\"sk-parallel-item\"><div class=\"sk-item\"><div class=\"sk-label-container\"><div class=\"sk-label sk-toggleable\"><input class=\"sk-toggleable__control sk-hidden--visually\" id=\"6b50851b-9081-4045-91fc-2738d75ae1dc\" type=\"checkbox\" ><label class=\"sk-toggleable__label\" for=\"6b50851b-9081-4045-91fc-2738d75ae1dc\">distance</label><div class=\"sk-toggleable__content\"><pre>['pickup_latitude', 'pickup_longitude', 'dropoff_latitude', 'dropoff_longitude']</pre></div></div></div><div class=\"sk-serial\"><div class=\"sk-item\"><div class=\"sk-serial\"><div class=\"sk-item\"><div class=\"sk-estimator sk-toggleable\"><input class=\"sk-toggleable__control sk-hidden--visually\" id=\"4aeafccf-c99c-4dd1-9dfb-4cdb70f888b2\" type=\"checkbox\" ><label class=\"sk-toggleable__label\" for=\"4aeafccf-c99c-4dd1-9dfb-4cdb70f888b2\">DistanceTransformer</label><div class=\"sk-toggleable__content\"><pre>DistanceTransformer(distance_type='manhattan')</pre></div></div></div><div class=\"sk-item\"><div class=\"sk-estimator sk-toggleable\"><input class=\"sk-toggleable__control sk-hidden--visually\" id=\"14d11086-e6ee-4e89-9d2d-cdba1fc6f011\" type=\"checkbox\" ><label class=\"sk-toggleable__label\" for=\"14d11086-e6ee-4e89-9d2d-cdba1fc6f011\">StandardScaler</label><div class=\"sk-toggleable__content\"><pre>StandardScaler()</pre></div></div></div></div></div></div></div></div><div class=\"sk-parallel-item\"><div class=\"sk-item\"><div class=\"sk-label-container\"><div class=\"sk-label sk-toggleable\"><input class=\"sk-toggleable__control sk-hidden--visually\" id=\"2c0aa69d-78f7-465b-8790-86311b9d8ee4\" type=\"checkbox\" ><label class=\"sk-toggleable__label\" for=\"2c0aa69d-78f7-465b-8790-86311b9d8ee4\">time_features</label><div class=\"sk-toggleable__content\"><pre>['pickup_datetime']</pre></div></div></div><div class=\"sk-serial\"><div class=\"sk-item\"><div class=\"sk-serial\"><div class=\"sk-item\"><div class=\"sk-estimator sk-toggleable\"><input class=\"sk-toggleable__control sk-hidden--visually\" id=\"8eeef724-b7ae-498e-8bc9-f0195245a5e0\" type=\"checkbox\" ><label class=\"sk-toggleable__label\" for=\"8eeef724-b7ae-498e-8bc9-f0195245a5e0\">TimeFeaturesEncoder</label><div class=\"sk-toggleable__content\"><pre>TimeFeaturesEncoder(time_column='pickup_datetime')</pre></div></div></div><div class=\"sk-item\"><div class=\"sk-estimator sk-toggleable\"><input class=\"sk-toggleable__control sk-hidden--visually\" id=\"84421766-a963-459c-955d-f7d5b8309804\" type=\"checkbox\" ><label class=\"sk-toggleable__label\" for=\"84421766-a963-459c-955d-f7d5b8309804\">OneHotEncoder</label><div class=\"sk-toggleable__content\"><pre>OneHotEncoder(handle_unknown='ignore')</pre></div></div></div></div></div></div></div></div><div class=\"sk-parallel-item\"><div class=\"sk-item\"><div class=\"sk-label-container\"><div class=\"sk-label sk-toggleable\"><input class=\"sk-toggleable__control sk-hidden--visually\" id=\"eed82f62-5089-4a9c-9051-226562e123d7\" type=\"checkbox\" ><label class=\"sk-toggleable__label\" for=\"eed82f62-5089-4a9c-9051-226562e123d7\">geohash</label><div class=\"sk-toggleable__content\"><pre>['pickup_latitude', 'pickup_longitude', 'dropoff_latitude', 'dropoff_longitude']</pre></div></div></div><div class=\"sk-serial\"><div class=\"sk-item\"><div class=\"sk-serial\"><div class=\"sk-item\"><div class=\"sk-estimator sk-toggleable\"><input class=\"sk-toggleable__control sk-hidden--visually\" id=\"c4724ea2-0a56-4d62-b62e-df883113f000\" type=\"checkbox\" ><label class=\"sk-toggleable__label\" for=\"c4724ea2-0a56-4d62-b62e-df883113f000\">AddGeohash</label><div class=\"sk-toggleable__content\"><pre>AddGeohash()</pre></div></div></div><div class=\"sk-item\"><div class=\"sk-estimator sk-toggleable\"><input class=\"sk-toggleable__control sk-hidden--visually\" id=\"9e503b3e-7e67-4823-b91b-72502ce442aa\" type=\"checkbox\" ><label class=\"sk-toggleable__label\" for=\"9e503b3e-7e67-4823-b91b-72502ce442aa\">HashingEncoder</label><div class=\"sk-toggleable__content\"><pre>HashingEncoder(max_process=8)</pre></div></div></div></div></div></div></div></div><div class=\"sk-parallel-item\"><div class=\"sk-item\"><div class=\"sk-label-container\"><div class=\"sk-label sk-toggleable\"><input class=\"sk-toggleable__control sk-hidden--visually\" id=\"3dda5522-7502-42b0-9810-02f4de44cc27\" type=\"checkbox\" ><label class=\"sk-toggleable__label\" for=\"3dda5522-7502-42b0-9810-02f4de44cc27\">direction</label><div class=\"sk-toggleable__content\"><pre>['pickup_latitude', 'pickup_longitude', 'dropoff_latitude', 'dropoff_longitude']</pre></div></div></div><div class=\"sk-serial\"><div class=\"sk-item\"><div class=\"sk-serial\"><div class=\"sk-item\"><div class=\"sk-estimator sk-toggleable\"><input class=\"sk-toggleable__control sk-hidden--visually\" id=\"065ecd77-0d41-446f-9bf6-e3f4d64c501e\" type=\"checkbox\" ><label class=\"sk-toggleable__label\" for=\"065ecd77-0d41-446f-9bf6-e3f4d64c501e\">Direction</label><div class=\"sk-toggleable__content\"><pre>Direction()</pre></div></div></div><div class=\"sk-item\"><div class=\"sk-estimator sk-toggleable\"><input class=\"sk-toggleable__control sk-hidden--visually\" id=\"eb57af11-21c7-4380-b769-cb38757f6a29\" type=\"checkbox\" ><label class=\"sk-toggleable__label\" for=\"eb57af11-21c7-4380-b769-cb38757f6a29\">StandardScaler</label><div class=\"sk-toggleable__content\"><pre>StandardScaler()</pre></div></div></div></div></div></div></div></div><div class=\"sk-parallel-item\"><div class=\"sk-item\"><div class=\"sk-label-container\"><div class=\"sk-label sk-toggleable\"><input class=\"sk-toggleable__control sk-hidden--visually\" id=\"fd11386f-fddd-479e-bf71-3b5b5947da72\" type=\"checkbox\" ><label class=\"sk-toggleable__label\" for=\"fd11386f-fddd-479e-bf71-3b5b5947da72\">distance_to_center</label><div class=\"sk-toggleable__content\"><pre>['pickup_latitude', 'pickup_longitude', 'dropoff_latitude', 'dropoff_longitude']</pre></div></div></div><div class=\"sk-serial\"><div class=\"sk-item\"><div class=\"sk-serial\"><div class=\"sk-item\"><div class=\"sk-estimator sk-toggleable\"><input class=\"sk-toggleable__control sk-hidden--visually\" id=\"0716cc45-5f4a-4c3f-be31-51834e5b8cfb\" type=\"checkbox\" ><label class=\"sk-toggleable__label\" for=\"0716cc45-5f4a-4c3f-be31-51834e5b8cfb\">DistanceToCenter</label><div class=\"sk-toggleable__content\"><pre>DistanceToCenter()</pre></div></div></div><div class=\"sk-item\"><div class=\"sk-estimator sk-toggleable\"><input class=\"sk-toggleable__control sk-hidden--visually\" id=\"9a3878b7-cf06-4e81-bfb5-1b0078eef0b0\" type=\"checkbox\" ><label class=\"sk-toggleable__label\" for=\"9a3878b7-cf06-4e81-bfb5-1b0078eef0b0\">StandardScaler</label><div class=\"sk-toggleable__content\"><pre>StandardScaler()</pre></div></div></div></div></div></div></div></div></div></div><div class=\"sk-item\"><div class=\"sk-estimator sk-toggleable\"><input class=\"sk-toggleable__control sk-hidden--visually\" id=\"ffac4e4f-c899-4432-9b1c-c7a020942066\" type=\"checkbox\" ><label class=\"sk-toggleable__label\" for=\"ffac4e4f-c899-4432-9b1c-c7a020942066\">LinearRegression</label><div class=\"sk-toggleable__content\"><pre>LinearRegression()</pre></div></div></div></div></div></div></div>"
      ],
      "text/plain": [
       "Pipeline(steps=[('features',\n",
       "                 ColumnTransformer(transformers=[('distance',\n",
       "                                                  Pipeline(steps=[('distancetransformer',\n",
       "                                                                   DistanceTransformer(distance_type='manhattan')),\n",
       "                                                                  ('standardscaler',\n",
       "                                                                   StandardScaler())]),\n",
       "                                                  ['pickup_latitude',\n",
       "                                                   'pickup_longitude',\n",
       "                                                   'dropoff_latitude',\n",
       "                                                   'dropoff_longitude']),\n",
       "                                                 ('time_features',\n",
       "                                                  Pipeline(steps=[('timefeaturesencoder',\n",
       "                                                                   TimeFeaturesEncode...\n",
       "                                                                   Direction()),\n",
       "                                                                  ('standardscaler',\n",
       "                                                                   StandardScaler())]),\n",
       "                                                  ['pickup_latitude',\n",
       "                                                   'pickup_longitude',\n",
       "                                                   'dropoff_latitude',\n",
       "                                                   'dropoff_longitude']),\n",
       "                                                 ('distance_to_center',\n",
       "                                                  Pipeline(steps=[('distancetocenter',\n",
       "                                                                   DistanceToCenter()),\n",
       "                                                                  ('standardscaler',\n",
       "                                                                   StandardScaler())]),\n",
       "                                                  ['pickup_latitude',\n",
       "                                                   'pickup_longitude',\n",
       "                                                   'dropoff_latitude',\n",
       "                                                   'dropoff_longitude'])])),\n",
       "                ('rgs', LinearRegression())])"
      ]
     },
     "execution_count": 7,
     "metadata": {},
     "output_type": "execute_result"
    }
   ],
   "source": [
    "import joblib\n",
    "from sklearn import set_config; set_config(display='diagram')\n",
    "\n",
    "pipeline = joblib.load('/Users/R/code/rodrigomras/TaxiFareModel/model.joblib')\n",
    "pipeline"
   ]
  },
  {
   "cell_type": "code",
   "execution_count": 4,
   "metadata": {},
   "outputs": [
    {
     "name": "stdout",
     "output_type": "stream",
     "text": [
      "{'prediction': 20.516722394882528}\n"
     ]
    }
   ],
   "source": [
    "import requests\n",
    "\n",
    "# fill the parameters for the prediction\n",
    "x = {'key': '2011-12-13 22:00:00.000000232',\n",
    " 'pickup_datetime': '2011-12-13 22:00:00 UTC',\n",
    " 'pickup_longitude': -74.00786,\n",
    " 'pickup_latitude': 40.72632,\n",
    " 'dropoff_longitude': -73.974942,\n",
    " 'dropoff_latitude': 40.792647,\n",
    " 'passenger_count': 1}\n",
    "\n",
    "# build the URL (server DNS, port, API endpoint, parameters)\n",
    "# http://127.0.0.1:8000/predict_fare?key=2012-10-06%2012:10:20.0000001&...\n",
    "taxifare_api_url = f\"http://127.0.0.1:8000/predict_fare?\\\n",
    "key={x['key'].replace(' ','%')}&\\\n",
    "pickup_datetime={x['pickup_datetime'].replace(' ','%')}&\\\n",
    "pickup_longitude={x['pickup_longitude']}&\\\n",
    "pickup_latitude={x['pickup_latitude']}&\\\n",
    "dropoff_longitude={x['dropoff_longitude']}&\\\n",
    "dropoff_latitude={x['dropoff_latitude']}&\\\n",
    "passenger_count={x['passenger_count']}\"\n",
    "#print(taxifare_api_url)\n",
    "\n",
    "# retrieve the response\n",
    "response = requests.get(taxifare_api_url).json()\n",
    "\n",
    "print(response)"
   ]
  },
  {
   "cell_type": "code",
   "execution_count": null,
   "metadata": {},
   "outputs": [],
   "source": []
  },
  {
   "cell_type": "code",
   "execution_count": null,
   "metadata": {},
   "outputs": [],
   "source": []
  }
 ],
 "metadata": {
  "kernelspec": {
   "display_name": "Python 3",
   "language": "python",
   "name": "python3"
  },
  "language_info": {
   "codemirror_mode": {
    "name": "ipython",
    "version": 3
   },
   "file_extension": ".py",
   "mimetype": "text/x-python",
   "name": "python",
   "nbconvert_exporter": "python",
   "pygments_lexer": "ipython3",
   "version": "3.8.6"
  },
  "toc": {
   "base_numbering": 1,
   "nav_menu": {},
   "number_sections": true,
   "sideBar": true,
   "skip_h1_title": false,
   "title_cell": "Table of Contents",
   "title_sidebar": "Contents",
   "toc_cell": false,
   "toc_position": {},
   "toc_section_display": true,
   "toc_window_display": false
  },
  "varInspector": {
   "cols": {
    "lenName": 16,
    "lenType": 16,
    "lenVar": 40
   },
   "kernels_config": {
    "python": {
     "delete_cmd_postfix": "",
     "delete_cmd_prefix": "del ",
     "library": "var_list.py",
     "varRefreshCmd": "print(var_dic_list())"
    },
    "r": {
     "delete_cmd_postfix": ") ",
     "delete_cmd_prefix": "rm(",
     "library": "var_list.r",
     "varRefreshCmd": "cat(var_dic_list()) "
    }
   },
   "types_to_exclude": [
    "module",
    "function",
    "builtin_function_or_method",
    "instance",
    "_Feature"
   ],
   "window_display": false
  }
 },
 "nbformat": 4,
 "nbformat_minor": 4
}
