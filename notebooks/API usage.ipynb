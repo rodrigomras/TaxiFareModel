{
 "cells": [
  {
   "cell_type": "code",
   "execution_count": 1,
   "metadata": {},
   "outputs": [],
   "source": [
    "from TaxiFareModel.trainer import Trainer\n",
    "from TaxiFareModel.data import get_data, clean_df"
   ]
  },
  {
   "cell_type": "code",
   "execution_count": 2,
   "metadata": {},
   "outputs": [
    {
     "name": "stdout",
     "output_type": "stream",
     "text": [
      "get_data 1.78\n"
     ]
    }
   ],
   "source": [
    "df = get_data()\n",
    "df = clean_df(df)\n",
    "y_train = df[\"fare_amount\"]\n",
    "X_train = df.drop(\"fare_amount\", axis=1)\n",
    "trainar = Trainer(X_train, y_train)"
   ]
  },
  {
   "cell_type": "code",
   "execution_count": 2,
   "metadata": {},
   "outputs": [
    {
     "data": {
      "text/html": [
       "<style>#sk-6e8e2fa3-0483-42cc-9e69-7276c296be12 {color: black;background-color: white;}#sk-6e8e2fa3-0483-42cc-9e69-7276c296be12 pre{padding: 0;}#sk-6e8e2fa3-0483-42cc-9e69-7276c296be12 div.sk-toggleable {background-color: white;}#sk-6e8e2fa3-0483-42cc-9e69-7276c296be12 label.sk-toggleable__label {cursor: pointer;display: block;width: 100%;margin-bottom: 0;padding: 0.2em 0.3em;box-sizing: border-box;text-align: center;}#sk-6e8e2fa3-0483-42cc-9e69-7276c296be12 div.sk-toggleable__content {max-height: 0;max-width: 0;overflow: hidden;text-align: left;background-color: #f0f8ff;}#sk-6e8e2fa3-0483-42cc-9e69-7276c296be12 div.sk-toggleable__content pre {margin: 0.2em;color: black;border-radius: 0.25em;background-color: #f0f8ff;}#sk-6e8e2fa3-0483-42cc-9e69-7276c296be12 input.sk-toggleable__control:checked~div.sk-toggleable__content {max-height: 200px;max-width: 100%;overflow: auto;}#sk-6e8e2fa3-0483-42cc-9e69-7276c296be12 div.sk-estimator input.sk-toggleable__control:checked~label.sk-toggleable__label {background-color: #d4ebff;}#sk-6e8e2fa3-0483-42cc-9e69-7276c296be12 div.sk-label input.sk-toggleable__control:checked~label.sk-toggleable__label {background-color: #d4ebff;}#sk-6e8e2fa3-0483-42cc-9e69-7276c296be12 input.sk-hidden--visually {border: 0;clip: rect(1px 1px 1px 1px);clip: rect(1px, 1px, 1px, 1px);height: 1px;margin: -1px;overflow: hidden;padding: 0;position: absolute;width: 1px;}#sk-6e8e2fa3-0483-42cc-9e69-7276c296be12 div.sk-estimator {font-family: monospace;background-color: #f0f8ff;margin: 0.25em 0.25em;border: 1px dotted black;border-radius: 0.25em;box-sizing: border-box;}#sk-6e8e2fa3-0483-42cc-9e69-7276c296be12 div.sk-estimator:hover {background-color: #d4ebff;}#sk-6e8e2fa3-0483-42cc-9e69-7276c296be12 div.sk-parallel-item::after {content: \"\";width: 100%;border-bottom: 1px solid gray;flex-grow: 1;}#sk-6e8e2fa3-0483-42cc-9e69-7276c296be12 div.sk-label:hover label.sk-toggleable__label {background-color: #d4ebff;}#sk-6e8e2fa3-0483-42cc-9e69-7276c296be12 div.sk-serial::before {content: \"\";position: absolute;border-left: 1px solid gray;box-sizing: border-box;top: 2em;bottom: 0;left: 50%;}#sk-6e8e2fa3-0483-42cc-9e69-7276c296be12 div.sk-serial {display: flex;flex-direction: column;align-items: center;background-color: white;}#sk-6e8e2fa3-0483-42cc-9e69-7276c296be12 div.sk-item {z-index: 1;}#sk-6e8e2fa3-0483-42cc-9e69-7276c296be12 div.sk-parallel {display: flex;align-items: stretch;justify-content: center;background-color: white;}#sk-6e8e2fa3-0483-42cc-9e69-7276c296be12 div.sk-parallel-item {display: flex;flex-direction: column;position: relative;background-color: white;}#sk-6e8e2fa3-0483-42cc-9e69-7276c296be12 div.sk-parallel-item:first-child::after {align-self: flex-end;width: 50%;}#sk-6e8e2fa3-0483-42cc-9e69-7276c296be12 div.sk-parallel-item:last-child::after {align-self: flex-start;width: 50%;}#sk-6e8e2fa3-0483-42cc-9e69-7276c296be12 div.sk-parallel-item:only-child::after {width: 0;}#sk-6e8e2fa3-0483-42cc-9e69-7276c296be12 div.sk-dashed-wrapped {border: 1px dashed gray;margin: 0.2em;box-sizing: border-box;padding-bottom: 0.1em;background-color: white;position: relative;}#sk-6e8e2fa3-0483-42cc-9e69-7276c296be12 div.sk-label label {font-family: monospace;font-weight: bold;background-color: white;display: inline-block;line-height: 1.2em;}#sk-6e8e2fa3-0483-42cc-9e69-7276c296be12 div.sk-label-container {position: relative;z-index: 2;text-align: center;}#sk-6e8e2fa3-0483-42cc-9e69-7276c296be12 div.sk-container {display: inline-block;position: relative;}</style><div id=\"sk-6e8e2fa3-0483-42cc-9e69-7276c296be12\" class\"sk-top-container\"><div class=\"sk-container\"><div class=\"sk-item sk-dashed-wrapped\"><div class=\"sk-label-container\"><div class=\"sk-label sk-toggleable\"><input class=\"sk-toggleable__control sk-hidden--visually\" id=\"81e50baf-9a56-4ce4-950b-7d851ee4c925\" type=\"checkbox\" ><label class=\"sk-toggleable__label\" for=\"81e50baf-9a56-4ce4-950b-7d851ee4c925\">Pipeline</label><div class=\"sk-toggleable__content\"><pre>Pipeline(steps=[('features',\n",
       "                 ColumnTransformer(transformers=[('distance',\n",
       "                                                  Pipeline(steps=[('distancetransformer',\n",
       "                                                                   DistanceTransformer(distance_type='manhattan')),\n",
       "                                                                  ('standardscaler',\n",
       "                                                                   StandardScaler())]),\n",
       "                                                  ['pickup_latitude',\n",
       "                                                   'pickup_longitude',\n",
       "                                                   'dropoff_latitude',\n",
       "                                                   'dropoff_longitude']),\n",
       "                                                 ('time_features',\n",
       "                                                  Pipeline(steps=[('timefeaturesencoder',\n",
       "                                                                   TimeFeaturesEncode...\n",
       "                                                                   Direction()),\n",
       "                                                                  ('standardscaler',\n",
       "                                                                   StandardScaler())]),\n",
       "                                                  ['pickup_latitude',\n",
       "                                                   'pickup_longitude',\n",
       "                                                   'dropoff_latitude',\n",
       "                                                   'dropoff_longitude']),\n",
       "                                                 ('distance_to_center',\n",
       "                                                  Pipeline(steps=[('distancetocenter',\n",
       "                                                                   DistanceToCenter()),\n",
       "                                                                  ('standardscaler',\n",
       "                                                                   StandardScaler())]),\n",
       "                                                  ['pickup_latitude',\n",
       "                                                   'pickup_longitude',\n",
       "                                                   'dropoff_latitude',\n",
       "                                                   'dropoff_longitude'])])),\n",
       "                ('rgs', LinearRegression())])</pre></div></div></div><div class=\"sk-serial\"><div class=\"sk-item sk-dashed-wrapped\"><div class=\"sk-label-container\"><div class=\"sk-label sk-toggleable\"><input class=\"sk-toggleable__control sk-hidden--visually\" id=\"35518d70-0d3d-4063-b682-f225658a070a\" type=\"checkbox\" ><label class=\"sk-toggleable__label\" for=\"35518d70-0d3d-4063-b682-f225658a070a\">features: ColumnTransformer</label><div class=\"sk-toggleable__content\"><pre>ColumnTransformer(transformers=[('distance',\n",
       "                                 Pipeline(steps=[('distancetransformer',\n",
       "                                                  DistanceTransformer(distance_type='manhattan')),\n",
       "                                                 ('standardscaler',\n",
       "                                                  StandardScaler())]),\n",
       "                                 ['pickup_latitude', 'pickup_longitude',\n",
       "                                  'dropoff_latitude', 'dropoff_longitude']),\n",
       "                                ('time_features',\n",
       "                                 Pipeline(steps=[('timefeaturesencoder',\n",
       "                                                  TimeFeaturesEncoder(time_column='pickup_dateti...\n",
       "                                 Pipeline(steps=[('direction', Direction()),\n",
       "                                                 ('standardscaler',\n",
       "                                                  StandardScaler())]),\n",
       "                                 ['pickup_latitude', 'pickup_longitude',\n",
       "                                  'dropoff_latitude', 'dropoff_longitude']),\n",
       "                                ('distance_to_center',\n",
       "                                 Pipeline(steps=[('distancetocenter',\n",
       "                                                  DistanceToCenter()),\n",
       "                                                 ('standardscaler',\n",
       "                                                  StandardScaler())]),\n",
       "                                 ['pickup_latitude', 'pickup_longitude',\n",
       "                                  'dropoff_latitude', 'dropoff_longitude'])])</pre></div></div></div><div class=\"sk-parallel\"><div class=\"sk-parallel-item\"><div class=\"sk-item\"><div class=\"sk-label-container\"><div class=\"sk-label sk-toggleable\"><input class=\"sk-toggleable__control sk-hidden--visually\" id=\"f8b7fd85-6a8f-467a-a097-a7f7f6f420fb\" type=\"checkbox\" ><label class=\"sk-toggleable__label\" for=\"f8b7fd85-6a8f-467a-a097-a7f7f6f420fb\">distance</label><div class=\"sk-toggleable__content\"><pre>['pickup_latitude', 'pickup_longitude', 'dropoff_latitude', 'dropoff_longitude']</pre></div></div></div><div class=\"sk-serial\"><div class=\"sk-item\"><div class=\"sk-serial\"><div class=\"sk-item\"><div class=\"sk-estimator sk-toggleable\"><input class=\"sk-toggleable__control sk-hidden--visually\" id=\"4a982767-4c33-42dc-94c9-d1ae21841817\" type=\"checkbox\" ><label class=\"sk-toggleable__label\" for=\"4a982767-4c33-42dc-94c9-d1ae21841817\">DistanceTransformer</label><div class=\"sk-toggleable__content\"><pre>DistanceTransformer(distance_type='manhattan')</pre></div></div></div><div class=\"sk-item\"><div class=\"sk-estimator sk-toggleable\"><input class=\"sk-toggleable__control sk-hidden--visually\" id=\"589eda60-a989-4649-b2e4-24357bc9d9a1\" type=\"checkbox\" ><label class=\"sk-toggleable__label\" for=\"589eda60-a989-4649-b2e4-24357bc9d9a1\">StandardScaler</label><div class=\"sk-toggleable__content\"><pre>StandardScaler()</pre></div></div></div></div></div></div></div></div><div class=\"sk-parallel-item\"><div class=\"sk-item\"><div class=\"sk-label-container\"><div class=\"sk-label sk-toggleable\"><input class=\"sk-toggleable__control sk-hidden--visually\" id=\"f8da6ea7-ce31-433d-890a-1666d6032c18\" type=\"checkbox\" ><label class=\"sk-toggleable__label\" for=\"f8da6ea7-ce31-433d-890a-1666d6032c18\">time_features</label><div class=\"sk-toggleable__content\"><pre>['pickup_datetime']</pre></div></div></div><div class=\"sk-serial\"><div class=\"sk-item\"><div class=\"sk-serial\"><div class=\"sk-item\"><div class=\"sk-estimator sk-toggleable\"><input class=\"sk-toggleable__control sk-hidden--visually\" id=\"34a40d44-274d-4725-be1c-a05aa0442f59\" type=\"checkbox\" ><label class=\"sk-toggleable__label\" for=\"34a40d44-274d-4725-be1c-a05aa0442f59\">TimeFeaturesEncoder</label><div class=\"sk-toggleable__content\"><pre>TimeFeaturesEncoder(time_column='pickup_datetime')</pre></div></div></div><div class=\"sk-item\"><div class=\"sk-estimator sk-toggleable\"><input class=\"sk-toggleable__control sk-hidden--visually\" id=\"252082df-1a99-4d0d-aed0-2b1e8eeebd2c\" type=\"checkbox\" ><label class=\"sk-toggleable__label\" for=\"252082df-1a99-4d0d-aed0-2b1e8eeebd2c\">OneHotEncoder</label><div class=\"sk-toggleable__content\"><pre>OneHotEncoder(handle_unknown='ignore')</pre></div></div></div></div></div></div></div></div><div class=\"sk-parallel-item\"><div class=\"sk-item\"><div class=\"sk-label-container\"><div class=\"sk-label sk-toggleable\"><input class=\"sk-toggleable__control sk-hidden--visually\" id=\"0f846577-90fa-43cf-b1fc-2151034eac8a\" type=\"checkbox\" ><label class=\"sk-toggleable__label\" for=\"0f846577-90fa-43cf-b1fc-2151034eac8a\">direction</label><div class=\"sk-toggleable__content\"><pre>['pickup_latitude', 'pickup_longitude', 'dropoff_latitude', 'dropoff_longitude']</pre></div></div></div><div class=\"sk-serial\"><div class=\"sk-item\"><div class=\"sk-serial\"><div class=\"sk-item\"><div class=\"sk-estimator sk-toggleable\"><input class=\"sk-toggleable__control sk-hidden--visually\" id=\"1a7cca2c-378b-4c7a-9b1a-51994c6e3327\" type=\"checkbox\" ><label class=\"sk-toggleable__label\" for=\"1a7cca2c-378b-4c7a-9b1a-51994c6e3327\">Direction</label><div class=\"sk-toggleable__content\"><pre>Direction()</pre></div></div></div><div class=\"sk-item\"><div class=\"sk-estimator sk-toggleable\"><input class=\"sk-toggleable__control sk-hidden--visually\" id=\"cf3fe4f9-34dc-4b88-93a1-4a7da22d30bc\" type=\"checkbox\" ><label class=\"sk-toggleable__label\" for=\"cf3fe4f9-34dc-4b88-93a1-4a7da22d30bc\">StandardScaler</label><div class=\"sk-toggleable__content\"><pre>StandardScaler()</pre></div></div></div></div></div></div></div></div><div class=\"sk-parallel-item\"><div class=\"sk-item\"><div class=\"sk-label-container\"><div class=\"sk-label sk-toggleable\"><input class=\"sk-toggleable__control sk-hidden--visually\" id=\"bb14b2ab-c2c6-478a-beea-b184c999c58e\" type=\"checkbox\" ><label class=\"sk-toggleable__label\" for=\"bb14b2ab-c2c6-478a-beea-b184c999c58e\">distance_to_center</label><div class=\"sk-toggleable__content\"><pre>['pickup_latitude', 'pickup_longitude', 'dropoff_latitude', 'dropoff_longitude']</pre></div></div></div><div class=\"sk-serial\"><div class=\"sk-item\"><div class=\"sk-serial\"><div class=\"sk-item\"><div class=\"sk-estimator sk-toggleable\"><input class=\"sk-toggleable__control sk-hidden--visually\" id=\"1849fad2-e9e5-4bb4-a61a-c4fa1b3b3ac4\" type=\"checkbox\" ><label class=\"sk-toggleable__label\" for=\"1849fad2-e9e5-4bb4-a61a-c4fa1b3b3ac4\">DistanceToCenter</label><div class=\"sk-toggleable__content\"><pre>DistanceToCenter()</pre></div></div></div><div class=\"sk-item\"><div class=\"sk-estimator sk-toggleable\"><input class=\"sk-toggleable__control sk-hidden--visually\" id=\"712b7a5d-ce93-47f5-8418-067e930a298b\" type=\"checkbox\" ><label class=\"sk-toggleable__label\" for=\"712b7a5d-ce93-47f5-8418-067e930a298b\">StandardScaler</label><div class=\"sk-toggleable__content\"><pre>StandardScaler()</pre></div></div></div></div></div></div></div></div></div></div><div class=\"sk-item\"><div class=\"sk-estimator sk-toggleable\"><input class=\"sk-toggleable__control sk-hidden--visually\" id=\"781f01df-1145-443a-9fbc-e113993cbfd6\" type=\"checkbox\" ><label class=\"sk-toggleable__label\" for=\"781f01df-1145-443a-9fbc-e113993cbfd6\">LinearRegression</label><div class=\"sk-toggleable__content\"><pre>LinearRegression()</pre></div></div></div></div></div></div></div>"
      ],
      "text/plain": [
       "Pipeline(steps=[('features',\n",
       "                 ColumnTransformer(transformers=[('distance',\n",
       "                                                  Pipeline(steps=[('distancetransformer',\n",
       "                                                                   DistanceTransformer(distance_type='manhattan')),\n",
       "                                                                  ('standardscaler',\n",
       "                                                                   StandardScaler())]),\n",
       "                                                  ['pickup_latitude',\n",
       "                                                   'pickup_longitude',\n",
       "                                                   'dropoff_latitude',\n",
       "                                                   'dropoff_longitude']),\n",
       "                                                 ('time_features',\n",
       "                                                  Pipeline(steps=[('timefeaturesencoder',\n",
       "                                                                   TimeFeaturesEncode...\n",
       "                                                                   Direction()),\n",
       "                                                                  ('standardscaler',\n",
       "                                                                   StandardScaler())]),\n",
       "                                                  ['pickup_latitude',\n",
       "                                                   'pickup_longitude',\n",
       "                                                   'dropoff_latitude',\n",
       "                                                   'dropoff_longitude']),\n",
       "                                                 ('distance_to_center',\n",
       "                                                  Pipeline(steps=[('distancetocenter',\n",
       "                                                                   DistanceToCenter()),\n",
       "                                                                  ('standardscaler',\n",
       "                                                                   StandardScaler())]),\n",
       "                                                  ['pickup_latitude',\n",
       "                                                   'pickup_longitude',\n",
       "                                                   'dropoff_latitude',\n",
       "                                                   'dropoff_longitude'])])),\n",
       "                ('rgs', LinearRegression())])"
      ]
     },
     "execution_count": 2,
     "metadata": {},
     "output_type": "execute_result"
    }
   ],
   "source": [
    "import joblib\n",
    "from sklearn import set_config; set_config(display='diagram')\n",
    "\n",
    "pipeline = joblib.load('/Users/R/code/rodrigomras/TaxiFareModel/model.joblib')\n",
    "pipeline"
   ]
  },
  {
   "cell_type": "code",
   "execution_count": 19,
   "metadata": {},
   "outputs": [
    {
     "name": "stdout",
     "output_type": "stream",
     "text": [
      "{'prediction': 20.774937418598526}\n"
     ]
    }
   ],
   "source": [
    "import requests\n",
    "\n",
    "# fill the parameters for the prediction\n",
    "x = {'key': '2011-12-13 22:00:00.000000232',\n",
    " 'pickup_datetime': '2011-12-13 22:00:00 UTC',\n",
    " 'pickup_longitude': -74.00786,\n",
    " 'pickup_latitude': 40.72432,\n",
    " 'dropoff_longitude': -73.974942,\n",
    " 'dropoff_latitude': 40.792647,\n",
    " 'passenger_count': 3}\n",
    "\n",
    "# build the URL (server DNS, port, API endpoint, parameters)\n",
    "# http://127.0.0.1:8000/predict_fare?key=2012-10-06%2012:10:20.0000001&...\n",
    "taxifare_api_url = f\"http://127.0.0.1:8000/predict_fare?\\\n",
    "key={x['key'].replace(' ','%')}&\\\n",
    "pickup_datetime={x['pickup_datetime'].replace(' ','%')}&\\\n",
    "pickup_longitude={x['pickup_longitude']}&\\\n",
    "pickup_latitude={x['pickup_latitude']}&\\\n",
    "dropoff_longitude={x['dropoff_longitude']}&\\\n",
    "dropoff_latitude={x['dropoff_latitude']}&\\\n",
    "passenger_count={x['passenger_count']}\"\n",
    "\n",
    "url = 'https://taxifare-api-5hhof7ptra-ew.a.run.app/predict_fare'\n",
    "\n",
    "#print(taxifare_api_url)\n",
    "\n",
    "# retrieve the response\n",
    "response = requests.get(url, params=x).json()\n",
    "\n",
    "print(response)"
   ]
  },
  {
   "cell_type": "code",
   "execution_count": null,
   "metadata": {},
   "outputs": [],
   "source": []
  },
  {
   "cell_type": "code",
   "execution_count": null,
   "metadata": {},
   "outputs": [],
   "source": []
  }
 ],
 "metadata": {
  "kernelspec": {
   "display_name": "Python 3",
   "language": "python",
   "name": "python3"
  },
  "language_info": {
   "codemirror_mode": {
    "name": "ipython",
    "version": 3
   },
   "file_extension": ".py",
   "mimetype": "text/x-python",
   "name": "python",
   "nbconvert_exporter": "python",
   "pygments_lexer": "ipython3",
   "version": "3.8.6"
  },
  "toc": {
   "base_numbering": 1,
   "nav_menu": {},
   "number_sections": true,
   "sideBar": true,
   "skip_h1_title": false,
   "title_cell": "Table of Contents",
   "title_sidebar": "Contents",
   "toc_cell": false,
   "toc_position": {},
   "toc_section_display": true,
   "toc_window_display": false
  },
  "varInspector": {
   "cols": {
    "lenName": 16,
    "lenType": 16,
    "lenVar": 40
   },
   "kernels_config": {
    "python": {
     "delete_cmd_postfix": "",
     "delete_cmd_prefix": "del ",
     "library": "var_list.py",
     "varRefreshCmd": "print(var_dic_list())"
    },
    "r": {
     "delete_cmd_postfix": ") ",
     "delete_cmd_prefix": "rm(",
     "library": "var_list.r",
     "varRefreshCmd": "cat(var_dic_list()) "
    }
   },
   "types_to_exclude": [
    "module",
    "function",
    "builtin_function_or_method",
    "instance",
    "_Feature"
   ],
   "window_display": false
  }
 },
 "nbformat": 4,
 "nbformat_minor": 4
}
