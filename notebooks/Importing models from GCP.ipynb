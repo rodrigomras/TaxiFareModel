{
 "cells": [
  {
   "cell_type": "code",
   "execution_count": 17,
   "id": "determined-massachusetts",
   "metadata": {},
   "outputs": [],
   "source": [
    "from google.cloud import storage\n",
    "import joblib\n",
    "from sklearn import set_config\n",
    "\n",
    "set_config(display='diagram')"
   ]
  },
  {
   "cell_type": "code",
   "execution_count": 18,
   "id": "enhanced-deputy",
   "metadata": {},
   "outputs": [
    {
     "name": "stdout",
     "output_type": "stream",
     "text": [
      "=> pipeline downloaded from storage\n"
     ]
    },
    {
     "data": {
      "text/html": [
       "<style>#sk-b137fd35-96df-4b7e-8385-df719a1831c0 {color: black;background-color: white;}#sk-b137fd35-96df-4b7e-8385-df719a1831c0 pre{padding: 0;}#sk-b137fd35-96df-4b7e-8385-df719a1831c0 div.sk-toggleable {background-color: white;}#sk-b137fd35-96df-4b7e-8385-df719a1831c0 label.sk-toggleable__label {cursor: pointer;display: block;width: 100%;margin-bottom: 0;padding: 0.2em 0.3em;box-sizing: border-box;text-align: center;}#sk-b137fd35-96df-4b7e-8385-df719a1831c0 div.sk-toggleable__content {max-height: 0;max-width: 0;overflow: hidden;text-align: left;background-color: #f0f8ff;}#sk-b137fd35-96df-4b7e-8385-df719a1831c0 div.sk-toggleable__content pre {margin: 0.2em;color: black;border-radius: 0.25em;background-color: #f0f8ff;}#sk-b137fd35-96df-4b7e-8385-df719a1831c0 input.sk-toggleable__control:checked~div.sk-toggleable__content {max-height: 200px;max-width: 100%;overflow: auto;}#sk-b137fd35-96df-4b7e-8385-df719a1831c0 div.sk-estimator input.sk-toggleable__control:checked~label.sk-toggleable__label {background-color: #d4ebff;}#sk-b137fd35-96df-4b7e-8385-df719a1831c0 div.sk-label input.sk-toggleable__control:checked~label.sk-toggleable__label {background-color: #d4ebff;}#sk-b137fd35-96df-4b7e-8385-df719a1831c0 input.sk-hidden--visually {border: 0;clip: rect(1px 1px 1px 1px);clip: rect(1px, 1px, 1px, 1px);height: 1px;margin: -1px;overflow: hidden;padding: 0;position: absolute;width: 1px;}#sk-b137fd35-96df-4b7e-8385-df719a1831c0 div.sk-estimator {font-family: monospace;background-color: #f0f8ff;margin: 0.25em 0.25em;border: 1px dotted black;border-radius: 0.25em;box-sizing: border-box;}#sk-b137fd35-96df-4b7e-8385-df719a1831c0 div.sk-estimator:hover {background-color: #d4ebff;}#sk-b137fd35-96df-4b7e-8385-df719a1831c0 div.sk-parallel-item::after {content: \"\";width: 100%;border-bottom: 1px solid gray;flex-grow: 1;}#sk-b137fd35-96df-4b7e-8385-df719a1831c0 div.sk-label:hover label.sk-toggleable__label {background-color: #d4ebff;}#sk-b137fd35-96df-4b7e-8385-df719a1831c0 div.sk-serial::before {content: \"\";position: absolute;border-left: 1px solid gray;box-sizing: border-box;top: 2em;bottom: 0;left: 50%;}#sk-b137fd35-96df-4b7e-8385-df719a1831c0 div.sk-serial {display: flex;flex-direction: column;align-items: center;background-color: white;}#sk-b137fd35-96df-4b7e-8385-df719a1831c0 div.sk-item {z-index: 1;}#sk-b137fd35-96df-4b7e-8385-df719a1831c0 div.sk-parallel {display: flex;align-items: stretch;justify-content: center;background-color: white;}#sk-b137fd35-96df-4b7e-8385-df719a1831c0 div.sk-parallel-item {display: flex;flex-direction: column;position: relative;background-color: white;}#sk-b137fd35-96df-4b7e-8385-df719a1831c0 div.sk-parallel-item:first-child::after {align-self: flex-end;width: 50%;}#sk-b137fd35-96df-4b7e-8385-df719a1831c0 div.sk-parallel-item:last-child::after {align-self: flex-start;width: 50%;}#sk-b137fd35-96df-4b7e-8385-df719a1831c0 div.sk-parallel-item:only-child::after {width: 0;}#sk-b137fd35-96df-4b7e-8385-df719a1831c0 div.sk-dashed-wrapped {border: 1px dashed gray;margin: 0.2em;box-sizing: border-box;padding-bottom: 0.1em;background-color: white;position: relative;}#sk-b137fd35-96df-4b7e-8385-df719a1831c0 div.sk-label label {font-family: monospace;font-weight: bold;background-color: white;display: inline-block;line-height: 1.2em;}#sk-b137fd35-96df-4b7e-8385-df719a1831c0 div.sk-label-container {position: relative;z-index: 2;text-align: center;}#sk-b137fd35-96df-4b7e-8385-df719a1831c0 div.sk-container {display: inline-block;position: relative;}</style><div id=\"sk-b137fd35-96df-4b7e-8385-df719a1831c0\" class\"sk-top-container\"><div class=\"sk-container\"><div class=\"sk-item sk-dashed-wrapped\"><div class=\"sk-label-container\"><div class=\"sk-label sk-toggleable\"><input class=\"sk-toggleable__control sk-hidden--visually\" id=\"7a99ce65-657c-418d-804d-63eec573a2c8\" type=\"checkbox\" ><label class=\"sk-toggleable__label\" for=\"7a99ce65-657c-418d-804d-63eec573a2c8\">Pipeline</label><div class=\"sk-toggleable__content\"><pre>Pipeline(steps=[('features',\n",
       "                 ColumnTransformer(transformers=[('distance',\n",
       "                                                  Pipeline(steps=[('distancetransformer',\n",
       "                                                                   DistanceTransformer(distance_type='manhattan')),\n",
       "                                                                  ('standardscaler',\n",
       "                                                                   StandardScaler())]),\n",
       "                                                  ['pickup_latitude',\n",
       "                                                   'pickup_longitude',\n",
       "                                                   'dropoff_latitude',\n",
       "                                                   'dropoff_longitude']),\n",
       "                                                 ('time_features',\n",
       "                                                  Pipeline(steps=[('timefeaturesencoder',\n",
       "                                                                   TimeFeaturesEncode...\n",
       "                              colsample_bytree=1, gamma=3, gpu_id=-1,\n",
       "                              importance_type='gain',\n",
       "                              interaction_constraints='', learning_rate=0.05,\n",
       "                              max_delta_step=0, max_depth=10,\n",
       "                              min_child_weight=1, missing=nan,\n",
       "                              monotone_constraints='()', n_estimators=140,\n",
       "                              n_jobs=-1, num_parallel_tree=1, random_state=0,\n",
       "                              reg_alpha=0, reg_lambda=1, scale_pos_weight=1,\n",
       "                              subsample=1, tree_method='exact',\n",
       "                              validate_parameters=1, verbosity=None))])</pre></div></div></div><div class=\"sk-serial\"><div class=\"sk-item sk-dashed-wrapped\"><div class=\"sk-label-container\"><div class=\"sk-label sk-toggleable\"><input class=\"sk-toggleable__control sk-hidden--visually\" id=\"bbef8eee-3879-4f36-8654-2b4afc5ddf77\" type=\"checkbox\" ><label class=\"sk-toggleable__label\" for=\"bbef8eee-3879-4f36-8654-2b4afc5ddf77\">features: ColumnTransformer</label><div class=\"sk-toggleable__content\"><pre>ColumnTransformer(transformers=[('distance',\n",
       "                                 Pipeline(steps=[('distancetransformer',\n",
       "                                                  DistanceTransformer(distance_type='manhattan')),\n",
       "                                                 ('standardscaler',\n",
       "                                                  StandardScaler())]),\n",
       "                                 ['pickup_latitude', 'pickup_longitude',\n",
       "                                  'dropoff_latitude', 'dropoff_longitude']),\n",
       "                                ('time_features',\n",
       "                                 Pipeline(steps=[('timefeaturesencoder',\n",
       "                                                  TimeFeaturesEncoder(time_column='pickup_datetime')),\n",
       "                                                 ('onehotencoder',\n",
       "                                                  OneHotEncoder(handle_unknown='ignore'))]),\n",
       "                                 ['pickup_datetime']),\n",
       "                                ('direction',\n",
       "                                 Pipeline(steps=[('direction', Direction()),\n",
       "                                                 ('standardscaler',\n",
       "                                                  StandardScaler())]),\n",
       "                                 ['pickup_latitude', 'pickup_longitude',\n",
       "                                  'dropoff_latitude', 'dropoff_longitude'])])</pre></div></div></div><div class=\"sk-parallel\"><div class=\"sk-parallel-item\"><div class=\"sk-item\"><div class=\"sk-label-container\"><div class=\"sk-label sk-toggleable\"><input class=\"sk-toggleable__control sk-hidden--visually\" id=\"066b12a0-cfd5-4e33-b59e-14e5598a35bd\" type=\"checkbox\" ><label class=\"sk-toggleable__label\" for=\"066b12a0-cfd5-4e33-b59e-14e5598a35bd\">distance</label><div class=\"sk-toggleable__content\"><pre>['pickup_latitude', 'pickup_longitude', 'dropoff_latitude', 'dropoff_longitude']</pre></div></div></div><div class=\"sk-serial\"><div class=\"sk-item\"><div class=\"sk-serial\"><div class=\"sk-item\"><div class=\"sk-estimator sk-toggleable\"><input class=\"sk-toggleable__control sk-hidden--visually\" id=\"8d7080dc-f630-4fba-b49e-9eb46a45dd54\" type=\"checkbox\" ><label class=\"sk-toggleable__label\" for=\"8d7080dc-f630-4fba-b49e-9eb46a45dd54\">DistanceTransformer</label><div class=\"sk-toggleable__content\"><pre>DistanceTransformer(distance_type='manhattan')</pre></div></div></div><div class=\"sk-item\"><div class=\"sk-estimator sk-toggleable\"><input class=\"sk-toggleable__control sk-hidden--visually\" id=\"94b6306a-d98c-4f59-a0a8-a2dfab0c6eb2\" type=\"checkbox\" ><label class=\"sk-toggleable__label\" for=\"94b6306a-d98c-4f59-a0a8-a2dfab0c6eb2\">StandardScaler</label><div class=\"sk-toggleable__content\"><pre>StandardScaler()</pre></div></div></div></div></div></div></div></div><div class=\"sk-parallel-item\"><div class=\"sk-item\"><div class=\"sk-label-container\"><div class=\"sk-label sk-toggleable\"><input class=\"sk-toggleable__control sk-hidden--visually\" id=\"90e7332f-77df-4734-894c-4395e3ddf25e\" type=\"checkbox\" ><label class=\"sk-toggleable__label\" for=\"90e7332f-77df-4734-894c-4395e3ddf25e\">time_features</label><div class=\"sk-toggleable__content\"><pre>['pickup_datetime']</pre></div></div></div><div class=\"sk-serial\"><div class=\"sk-item\"><div class=\"sk-serial\"><div class=\"sk-item\"><div class=\"sk-estimator sk-toggleable\"><input class=\"sk-toggleable__control sk-hidden--visually\" id=\"28c99116-5d10-4bbd-a10c-caa62a47a362\" type=\"checkbox\" ><label class=\"sk-toggleable__label\" for=\"28c99116-5d10-4bbd-a10c-caa62a47a362\">TimeFeaturesEncoder</label><div class=\"sk-toggleable__content\"><pre>TimeFeaturesEncoder(time_column='pickup_datetime')</pre></div></div></div><div class=\"sk-item\"><div class=\"sk-estimator sk-toggleable\"><input class=\"sk-toggleable__control sk-hidden--visually\" id=\"1c25d93e-a632-4b6a-a472-4c423cdc8526\" type=\"checkbox\" ><label class=\"sk-toggleable__label\" for=\"1c25d93e-a632-4b6a-a472-4c423cdc8526\">OneHotEncoder</label><div class=\"sk-toggleable__content\"><pre>OneHotEncoder(handle_unknown='ignore')</pre></div></div></div></div></div></div></div></div><div class=\"sk-parallel-item\"><div class=\"sk-item\"><div class=\"sk-label-container\"><div class=\"sk-label sk-toggleable\"><input class=\"sk-toggleable__control sk-hidden--visually\" id=\"20ca8d89-cb56-4f47-a4e8-8825098c325b\" type=\"checkbox\" ><label class=\"sk-toggleable__label\" for=\"20ca8d89-cb56-4f47-a4e8-8825098c325b\">direction</label><div class=\"sk-toggleable__content\"><pre>['pickup_latitude', 'pickup_longitude', 'dropoff_latitude', 'dropoff_longitude']</pre></div></div></div><div class=\"sk-serial\"><div class=\"sk-item\"><div class=\"sk-serial\"><div class=\"sk-item\"><div class=\"sk-estimator sk-toggleable\"><input class=\"sk-toggleable__control sk-hidden--visually\" id=\"a95c2705-7faf-4429-8d8c-b9f97526ebc3\" type=\"checkbox\" ><label class=\"sk-toggleable__label\" for=\"a95c2705-7faf-4429-8d8c-b9f97526ebc3\">Direction</label><div class=\"sk-toggleable__content\"><pre>Direction()</pre></div></div></div><div class=\"sk-item\"><div class=\"sk-estimator sk-toggleable\"><input class=\"sk-toggleable__control sk-hidden--visually\" id=\"3e99967c-104c-40d2-b9f3-5bb081b24f00\" type=\"checkbox\" ><label class=\"sk-toggleable__label\" for=\"3e99967c-104c-40d2-b9f3-5bb081b24f00\">StandardScaler</label><div class=\"sk-toggleable__content\"><pre>StandardScaler()</pre></div></div></div></div></div></div></div></div></div></div><div class=\"sk-item\"><div class=\"sk-estimator sk-toggleable\"><input class=\"sk-toggleable__control sk-hidden--visually\" id=\"f7582cfc-0863-4a06-803d-ed5d5bac8e0f\" type=\"checkbox\" ><label class=\"sk-toggleable__label\" for=\"f7582cfc-0863-4a06-803d-ed5d5bac8e0f\">XGBRegressor</label><div class=\"sk-toggleable__content\"><pre>XGBRegressor(base_score=0.5, booster='gbtree', colsample_bylevel=1,\n",
       "             colsample_bynode=1, colsample_bytree=1, gamma=3, gpu_id=-1,\n",
       "             importance_type='gain', interaction_constraints='',\n",
       "             learning_rate=0.05, max_delta_step=0, max_depth=10,\n",
       "             min_child_weight=1, missing=nan, monotone_constraints='()',\n",
       "             n_estimators=140, n_jobs=-1, num_parallel_tree=1, random_state=0,\n",
       "             reg_alpha=0, reg_lambda=1, scale_pos_weight=1, subsample=1,\n",
       "             tree_method='exact', validate_parameters=1, verbosity=None)</pre></div></div></div></div></div></div></div>"
      ],
      "text/plain": [
       "Pipeline(steps=[('features',\n",
       "                 ColumnTransformer(transformers=[('distance',\n",
       "                                                  Pipeline(steps=[('distancetransformer',\n",
       "                                                                   DistanceTransformer(distance_type='manhattan')),\n",
       "                                                                  ('standardscaler',\n",
       "                                                                   StandardScaler())]),\n",
       "                                                  ['pickup_latitude',\n",
       "                                                   'pickup_longitude',\n",
       "                                                   'dropoff_latitude',\n",
       "                                                   'dropoff_longitude']),\n",
       "                                                 ('time_features',\n",
       "                                                  Pipeline(steps=[('timefeaturesencoder',\n",
       "                                                                   TimeFeaturesEncode...\n",
       "                              colsample_bytree=1, gamma=3, gpu_id=-1,\n",
       "                              importance_type='gain',\n",
       "                              interaction_constraints='', learning_rate=0.05,\n",
       "                              max_delta_step=0, max_depth=10,\n",
       "                              min_child_weight=1, missing=nan,\n",
       "                              monotone_constraints='()', n_estimators=140,\n",
       "                              n_jobs=-1, num_parallel_tree=1, random_state=0,\n",
       "                              reg_alpha=0, reg_lambda=1, scale_pos_weight=1,\n",
       "                              subsample=1, tree_method='exact',\n",
       "                              validate_parameters=1, verbosity=None))])"
      ]
     },
     "execution_count": 18,
     "metadata": {},
     "output_type": "execute_result"
    }
   ],
   "source": [
    "BUCKET = 'wagon-ml-sousa-566'\n",
    "MODEL_NAME = 'taxifare'\n",
    "MODEL_DIRECTORY = 'V_2021-05-12 21:48:24.311208'\n",
    "LOCAL_MODEL = '/Users/R/code/rodrigomras/TaxiFareModel/model_from_gcp.joblib'\n",
    "\n",
    "client = storage.Client()\n",
    "bucket = client.bucket(BUCKET)\n",
    "\n",
    "storage_location = 'models/{}/{}/{}'.format(\n",
    "    MODEL_NAME,\n",
    "    MODEL_DIRECTORY,\n",
    "    'model.joblib')\n",
    "\n",
    "blob = bucket.blob(storage_location)\n",
    "blob.download_to_filename(LOCAL_MODEL)\n",
    "print(\"=> pipeline downloaded from storage\")\n",
    "\n",
    "model = joblib.load(LOCAL_MODEL)\n",
    "model"
   ]
  }
 ],
 "metadata": {
  "kernelspec": {
   "display_name": "Python 3",
   "language": "python",
   "name": "python3"
  },
  "language_info": {
   "codemirror_mode": {
    "name": "ipython",
    "version": 3
   },
   "file_extension": ".py",
   "mimetype": "text/x-python",
   "name": "python",
   "nbconvert_exporter": "python",
   "pygments_lexer": "ipython3",
   "version": "3.8.6"
  },
  "toc": {
   "base_numbering": 1,
   "nav_menu": {},
   "number_sections": true,
   "sideBar": true,
   "skip_h1_title": false,
   "title_cell": "Table of Contents",
   "title_sidebar": "Contents",
   "toc_cell": false,
   "toc_position": {},
   "toc_section_display": true,
   "toc_window_display": false
  }
 },
 "nbformat": 4,
 "nbformat_minor": 5
}
